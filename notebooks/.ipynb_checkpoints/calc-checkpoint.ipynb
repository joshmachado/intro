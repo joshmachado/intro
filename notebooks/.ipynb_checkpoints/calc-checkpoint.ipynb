{
 "cells": [
  {
   "cell_type": "markdown",
   "id": "shaped-chancellor",
   "metadata": {},
   "source": [
    "# IMPORTS"
   ]
  },
  {
   "cell_type": "code",
   "execution_count": 6,
   "id": "confidential-indian",
   "metadata": {},
   "outputs": [],
   "source": [
    "import numpy as np\n",
    "from astropy.io import fits\n",
    "import astropy.io.fits as pyfits\n",
    "from astropy.wcs import WCS\n",
    "import matplotlib.pyplot as plt\n",
    "from astropy.table import Table\n",
    "import pandas as pd\n",
    "import math\n",
    "import random as r\n",
    "import scipy.stats\n",
    "import os.path\n",
    "import sys\n",
    "sys.path.append('/home/machado.35/projects/modules')\n",
    "from deprojectGalaxy import deproject\n",
    "import time\n",
    "import spacing_calc"
   ]
  },
  {
   "cell_type": "markdown",
   "id": "decimal-scotland",
   "metadata": {},
   "source": [
    "# SETUP"
   ]
  },
  {
   "cell_type": "code",
   "execution_count": 7,
   "id": "occupational-forestry",
   "metadata": {},
   "outputs": [],
   "source": [
    "sources = pd.read_csv('/home/machado.35/projects/intro/scripts/sources.csv')\n",
    "sources = list(sources['sources'])\n",
    "res = [60,90,120,150]\n",
    "\n",
    "tab_loc = '/home/machado.35/projects/intro/phangs_sample_table_v1p6.fits'\n",
    "t = Table.read(tab_loc)\n",
    "\n",
    "output_path = '/data/rubin/machado.35/phangs/rand_results/final_run/'"
   ]
  },
  {
   "cell_type": "markdown",
   "id": "dependent-express",
   "metadata": {},
   "source": [
    "# RUN RANDOM PLACEMENTS"
   ]
  },
  {
   "cell_type": "code",
   "execution_count": null,
   "id": "prime-festival",
   "metadata": {},
   "outputs": [],
   "source": [
    "#2D COVERAGE\n",
    "n_clouds = 1e6\n",
    "for k in range(len(res)):\n",
    "    for i in range(len(sources)):\n",
    "        image = '/home/machado.35/projects/masks/coverage/'+sources[i]+'_12m+7m+tp_co21_'+str(res[k])+'pc_coverage2d.fits'\n",
    "        if os.path.isfile(image):\n",
    "            row = int(np.where(t['name'] == sources[i])[0])\n",
    "            galRA=t[row]['orient_ra']\n",
    "            galDEC=t[row]['orient_dec']\n",
    "            pa=t[row]['orient_posang']\n",
    "            incl=t[row]['orient_incl']\n",
    "            galDist=t[row]['dist']\n",
    "            outfile_name = output_path+sources[i]+'_2dcov'+'_'+str(res[k])+'pc.csv'\n",
    "            spacing_calc.place_nclouds_in_map(image, n_clouds, outfile_name, galRA, galDEC, pa, incl, galDist)"
   ]
  },
  {
   "cell_type": "code",
   "execution_count": null,
   "id": "protective-failing",
   "metadata": {},
   "outputs": [],
   "source": [
    "#EXP MASK\n",
    "n_clouds = 1e6\n",
    "for k in range(len(res)):\n",
    "    for i in range(len(sources)):\n",
    "        image = '/home/machado.35/projects/masks/exp/'+sources[i]+'_'+str(res[k])+'pc_exp_mask.fits'\n",
    "        if os.path.isfile(image):\n",
    "            row = int(np.where(t['name'] == sources[i])[0])\n",
    "            galRA=t[row]['orient_ra']\n",
    "            galDEC=t[row]['orient_dec']\n",
    "            pa=t[row]['orient_posang']\n",
    "            incl=t[row]['orient_incl']\n",
    "            galDist=t[row]['dist']\n",
    "            outfile_name = output_path+sources[i]+'_exp'+'_'+str(res[k])+'pc.csv'\n",
    "            spacing_calc.place_nclouds_in_map(image, n_clouds, outfile_name, galRA, galDEC, pa, incl, galDist)"
   ]
  },
  {
   "cell_type": "markdown",
   "id": "cosmetic-factor",
   "metadata": {},
   "source": [
    "# CALCULATE 1ST, 3RD, 5TH NEIGHBORS & 400, 600, 800, 1000 PC"
   ]
  },
  {
   "cell_type": "code",
   "execution_count": null,
   "id": "through-lebanon",
   "metadata": {},
   "outputs": [],
   "source": [
    "#2D COVERAGE\n",
    "radii = [400,600,800,1000]\n",
    "for k in range(len(res)):\n",
    "    for i in range(len(sources)):\n",
    "        image = '/home/machado.35/projects/masks/coverage/'+sources[i]+'_12m+7m+tp_co21_'+str(res[k])+'pc_coverage2d.fits'\n",
    "        cat_fp = '/home/machado.35/projects/intro/sources/'+sources[i]+'/'+sources[i]+'_'+str(res[k])+'pc_cloud_stats.csv'\n",
    "        fn = output_path+sources[i]+'_2dcov'+'_'+str(res[k])+'pc.csv'\n",
    "        if os.path.isfile(image):\n",
    "            if os.path.isfile(cat_fp):\n",
    "                if os.path.isfile(fn):\n",
    "                    row = int(np.where(t['name'] == sources[i])[0])\n",
    "                    dist = t['dist'][row]*1e6 #from Mpc to pc\n",
    "                    df = pd.read_csv(fn)\n",
    "                    cat = pd.read_csv(cat_fp)\n",
    "                    x = df['rRA']\n",
    "                    y = df['rDEC']\n",
    "                    N_tot = len(x)\n",
    "                    n_it = len(cat)\n",
    "                    n_loops = int(np.floor(N_tot / n_it))\n",
    "                    mindist = np.zeros_like(x)*np.nan\n",
    "                    mindist3 = np.zeros_like(x)*np.nan\n",
    "                    mindist5 = np.zeros_like(x)*np.nan\n",
    "                    radial_density_400 = np.zeros_like(x)*np.nan\n",
    "                    radial_density_600 = np.zeros_like(x)*np.nan\n",
    "                    radial_density_800 = np.zeros_like(x)*np.nan\n",
    "                    radial_density_1000 = np.zeros_like(x)*np.nan\n",
    "                    for ii in np.arange(n_loops):\n",
    "                        tx = x[ii*n_it:(ii+1)*n_it]\n",
    "                        ty = y[ii*n_it:(ii+1)*n_it]\n",
    "                        mindist[ii*n_it:(ii+1)*n_it] = spacing_calc.pair_dist_calc(x=tx,y=ty, neighbor_num=1) #1st nearest\n",
    "                        mindist3[ii*n_it:(ii+1)*n_it] = spacing_calc.pair_dist_calc(x=tx,y=ty, neighbor_num=3) #3rd nearest\n",
    "                        mindist5[ii*n_it:(ii+1)*n_it] = spacing_calc.pair_dist_calc(x=tx,y=ty, neighbor_num=5) #5th nearest\n",
    "                        radial_density_400[ii*n_it:(ii+1)*n_it] = spacing_calc.rad_density(x=tx,y=ty, rad=radii[0], galdist=dist)\n",
    "                        radial_density_600[ii*n_it:(ii+1)*n_it] = spacing_calc.rad_density(x=tx,y=ty, rad=radii[1], galdist=dist)\n",
    "                        radial_density_800[ii*n_it:(ii+1)*n_it] = spacing_calc.rad_density(x=tx,y=ty, rad=radii[2], galdist=dist)\n",
    "                        radial_density_1000[ii*n_it:(ii+1)*n_it] = spacing_calc.rad_density(x=tx,y=ty, rad=radii[3], galdist=dist)\n",
    "                    df['nn_dist'] = np.deg2rad(mindist) * dist\n",
    "                    df['nn3_dist'] = np.deg2rad(mindist3) * dist\n",
    "                    df['nn5_dist'] = np.deg2rad(mindist5) * dist\n",
    "                    df['clouds_r'+str(radii[0])+'pc'] = radial_density_400\n",
    "                    df['clouds_r'+str(radii[1])+'pc'] = radial_density_600\n",
    "                    df['clouds_r'+str(radii[2])+'pc'] = radial_density_800\n",
    "                    df['clouds_r'+str(radii[3])+'pc'] = radial_density_1000\n",
    "                    df.to_csv(fn)"
   ]
  },
  {
   "cell_type": "code",
   "execution_count": null,
   "id": "domestic-broadcast",
   "metadata": {},
   "outputs": [],
   "source": [
    "#EXP DISK\n",
    "radii = [400,600,800,1000]\n",
    "for k in range(len(res)):\n",
    "    for i in range(len(sources)):\n",
    "        image = '/home/machado.35/projects/masks/exp/'+sources[i]+'_'+str(res[k])+'pc_exp_mask.fits'\n",
    "        cat_fp = '/home/machado.35/projects/intro/sources/'+sources[i]+'/'+sources[i]+'_'+str(res[k])+'pc_cloud_stats.csv'\n",
    "        fn = output_path+sources[i]+'_exp'+'_'+str(res[k])+'pc.csv'\n",
    "        if os.path.isfile(image):\n",
    "            if os.path.isfile(cat_fp):\n",
    "                if os.path.isfile(fn):\n",
    "                    row = int(np.where(t['name'] == sources[i])[0])\n",
    "                    dist = t['dist'][row]*1e6 #from Mpc to pc\n",
    "                    df = pd.read_csv(fn)\n",
    "                    cat = pd.read_csv(cat_fp)\n",
    "                    x = df['rRA']\n",
    "                    y = df['rDEC']\n",
    "                    N_tot = len(x)\n",
    "                    n_it = len(cat)\n",
    "                    n_loops = int(np.floor(N_tot / n_it))\n",
    "                    mindist = np.zeros_like(x)*np.nan\n",
    "                    mindist3 = np.zeros_like(x)*np.nan\n",
    "                    mindist5 = np.zeros_like(x)*np.nan\n",
    "                    radial_density_400 = np.zeros_like(x)*np.nan\n",
    "                    radial_density_600 = np.zeros_like(x)*np.nan\n",
    "                    radial_density_800 = np.zeros_like(x)*np.nan\n",
    "                    radial_density_1000 = np.zeros_like(x)*np.nan\n",
    "                    for ii in np.arange(n_loops):\n",
    "                        tx = x[ii*n_it:(ii+1)*n_it]\n",
    "                        ty = y[ii*n_it:(ii+1)*n_it]\n",
    "                        mindist[ii*n_it:(ii+1)*n_it] = spacing_calc.pair_dist_calc(x=tx,y=ty, neighbor_num=1) #1st nearest\n",
    "                        mindist3[ii*n_it:(ii+1)*n_it] = spacing_calc.pair_dist_calc(x=tx,y=ty, neighbor_num=3) #3rd nearest\n",
    "                        mindist5[ii*n_it:(ii+1)*n_it] = spacing_calc.pair_dist_calc(x=tx,y=ty, neighbor_num=5) #5th nearest\n",
    "                        radial_density_400[ii*n_it:(ii+1)*n_it] = spacing_calc.rad_density(x=tx,y=ty, rad=radii[0], galdist=dist)\n",
    "                        radial_density_600[ii*n_it:(ii+1)*n_it] = spacing_calc.rad_density(x=tx,y=ty, rad=radii[1], galdist=dist)\n",
    "                        radial_density_800[ii*n_it:(ii+1)*n_it] = spacing_calc.rad_density(x=tx,y=ty, rad=radii[2], galdist=dist)\n",
    "                        radial_density_1000[ii*n_it:(ii+1)*n_it] = spacing_calc.rad_density(x=tx,y=ty, rad=radii[3], galdist=dist)\n",
    "                    df['nn_dist'] = np.deg2rad(mindist) * dist\n",
    "                    df['nn3_dist'] = np.deg2rad(mindist3) * dist\n",
    "                    df['nn5_dist'] = np.deg2rad(mindist5) * dist\n",
    "                    df['clouds_r'+str(radii[0])+'pc'] = radial_density_400\n",
    "                    df['clouds_r'+str(radii[1])+'pc'] = radial_density_600\n",
    "                    df['clouds_r'+str(radii[2])+'pc'] = radial_density_800\n",
    "                    df['clouds_r'+str(radii[3])+'pc'] = radial_density_1000\n",
    "                    df.to_csv(fn)"
   ]
  },
  {
   "cell_type": "code",
   "execution_count": null,
   "id": "understood-birth",
   "metadata": {},
   "outputs": [],
   "source": [
    "#REAL DATA\n",
    "radii = [400,600,800,1000]\n",
    "for k in range(len(res)):\n",
    "    for i in range(len(sources)):\n",
    "        real_cat = '/home/machado.35/projects/intro/sources/'+sources[i]+'/'+sources[i]+'_'+str(res[k])+'pc_cloud_stats.csv'\n",
    "        if os.path.isfile(real_cat):\n",
    "            cat = pd.read_csv(real_cat)\n",
    "            row = int(np.where(t['name'] == sources[i])[0])\n",
    "            dist = t['dist'][row]*1e6 #from Mpc to pc\n",
    "            x = cat['corr_x']\n",
    "            y = cat['y']\n",
    "            neighbor_counts = rad_density(x=x, y=y, rad=radius, galdist=dist)\n",
    "            cat['clouds_r'+str(radius)+'pc'] = neighbor_counts\n",
    "            cat.to_csv(real_cat)"
   ]
  }
 ],
 "metadata": {
  "kernelspec": {
   "display_name": "Python 3",
   "language": "python",
   "name": "python3"
  },
  "language_info": {
   "codemirror_mode": {
    "name": "ipython",
    "version": 3
   },
   "file_extension": ".py",
   "mimetype": "text/x-python",
   "name": "python",
   "nbconvert_exporter": "python",
   "pygments_lexer": "ipython3",
   "version": "3.7.2"
  }
 },
 "nbformat": 4,
 "nbformat_minor": 5
}
