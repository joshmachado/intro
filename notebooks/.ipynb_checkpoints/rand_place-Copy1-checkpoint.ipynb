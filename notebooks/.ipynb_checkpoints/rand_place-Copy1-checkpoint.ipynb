{
 "cells": [
  {
   "cell_type": "code",
   "execution_count": 39,
   "metadata": {},
   "outputs": [],
   "source": [
    "import numpy as np\n",
    "from astropy.io import fits\n",
    "import astropy.io.fits as pyfits\n",
    "from astropy.wcs import WCS\n",
    "import matplotlib.pyplot as plt\n",
    "from astropy.table import Table\n",
    "import pandas as pd\n",
    "import math\n",
    "import random as r\n",
    "import scipy.stats\n",
    "import os.path\n",
    "import sys\n",
    "sys.path.append('/home/machado.35/projects/notebooks')\n",
    "from deprojectGalaxy import deproject\n",
    "import time"
   ]
  },
  {
   "cell_type": "code",
   "execution_count": 3,
   "metadata": {},
   "outputs": [],
   "source": [
    "# This block of code contains the supporting functions to generate \n",
    "# a random distribution, you should not need to call any of these \n",
    "# funcitons specifically.\n",
    "\n",
    "def arraySort(variable, distance):\n",
    "    # sorts variable and distance list by shortest distance\n",
    "    # variable, distance: lists holding measurement of variable and distance to that measurement\n",
    "    pattern = distance.argsort()\n",
    "    dist = distance[pattern]\n",
    "    var = variable[pattern]\n",
    "    return (var, dist)\n",
    "\n",
    "def findNearest(varArray, value, distArray):\n",
    "    # sorts variable by distance, returning the closest that has the given value \n",
    "    # varArray, distArray: arrays holding measurement of variable and distance to that measurement\n",
    "    # value: float. \n",
    "    var, dist = arraySort(varArray, distArray)\n",
    "    ind = np.where(var >= value)\n",
    "    \n",
    "    if len(dist[ind]) > 0:\n",
    "        nearestVal  = np.argmin(dist[ind])\n",
    "        nearestDist = dist[ind][nearestVal] \n",
    "        varVal     = var[ind][nearestVal]\n",
    "\n",
    "    else:\n",
    "        varVal     = float('nan')\n",
    "        nearestDist = float('nan')\n",
    "        \n",
    "    return(varVal, nearestDist)\n",
    "    \n",
    "def printNearest(inten, SNR, dist_kpc, value, SNRcutoff = 0.0):\n",
    "    # returns distance to the nearest molecular cloud and the intensity value found\n",
    "    \n",
    "    #apply SNR cutoff\n",
    "    intenCut, dist_kpcCut = [],[]\n",
    "    for i in range(len(inten)):\n",
    "        if (SNR[i] >= SNRcutoff):\n",
    "            intenCut.append(inten[i])\n",
    "            dist_kpcCut.append(dist_kpc[i])\n",
    "    \n",
    "    valFound, nearestMC = findNearest(np.array(intenCut), value, np.array(dist_kpcCut))\n",
    "    \n",
    "    return(nearestMC, valFound)      \n",
    "\n",
    "def distanceCalculator(x1, x2, y1, y2, galDist):\n",
    "    #calculate distance between two points (in kpc)\n",
    "    #x1, y1 = xprime and yprime, x2, y2 = SN coords, dist = distance to galaxy (kpc)\n",
    "    d = np.sqrt((x2-x1)**2 + (y2-y1)**2)\n",
    "    x = galDist * np.tan(d*np.pi/180.0)\n",
    "    return(x)\n",
    "\n",
    "def normalize(weightsArray):\n",
    "    # takes a list of weights and normalizes them\n",
    "    prob_factor = 1 / sum(weightsArray)\n",
    "    return [prob_factor * p for p in weightsArray]\n"
   ]
  },
  {
   "cell_type": "code",
   "execution_count": 211,
   "metadata": {},
   "outputs": [],
   "source": [
    "def place_nclouds_in_map(image, n_clouds, outfile_name, galRA, galDEC, pa, incl, galDist):\n",
    "    \n",
    "    hdulist   = pyfits.open(image)\n",
    "    intMap    = hdulist[0].data\n",
    "        \n",
    "    wcs      = WCS(hdulist[0].header, naxis=2)\n",
    "    naxis    = wcs._naxis # size of image naxis[0] = x and [1] = y\n",
    "    grid     = np.indices((naxis[1],naxis[0]))\n",
    "    ra, dec  = wcs.wcs_pix2world(grid[1],grid[0],0)\n",
    "\n",
    "    centerCoord = [galRA, galDEC]\n",
    "    \n",
    "    #deproject ra and dec to dx and dy\n",
    "    radius, projang, dx, dy = deproject(center_coord=centerCoord, incl=incl, pa=pa, ra=ra, dec=dec, return_offset=True)\n",
    "    \n",
    "\n",
    "    #flatten data structures \n",
    "    f_int  = intMap.flatten()\n",
    "    f_ra   = ra.flatten()\n",
    "    f_dec  = dec.flatten()    \n",
    "    f_dx   = dx.flatten()\n",
    "    f_dy   = dy.flatten()       \n",
    "    \n",
    "    #remove nans\n",
    "    keep  = np.where(np.isfinite(f_int))\n",
    "    inten = f_int[keep]\n",
    "    ra    = f_ra[keep]\n",
    "    dec   = f_dec[keep]\n",
    "    dx    = f_dx[keep]\n",
    "    dy    = f_dy[keep]\n",
    "    \n",
    "    if np.any(inten < 0):\n",
    "        inten[np.where(inten < 0)] = 0\n",
    "    \n",
    "    #Convert image into probabilities\n",
    "    total = sum(inten)\n",
    "    prob  = inten/total\n",
    "    \n",
    "    #Generates index for each coordinate pair\n",
    "    nX = len(dx)  \n",
    "    indicies = np.arange(nX, dtype=int)\n",
    "    \n",
    "    \n",
    "    #Probability weighted random placement\n",
    "    randInt = np.random.choice(indicies, p=prob, size=int(n_clouds))\n",
    "\n",
    "    rX   = dx[randInt]\n",
    "    rY   = dy[randInt]\n",
    "    rRA  = ra[randInt]\n",
    "    rDEC = dec[randInt]\n",
    "    \n",
    "    df = pd.DataFrame()\n",
    "    df['rX'] = rX\n",
    "    df['rY'] = rY\n",
    "    df['rRA'] = rRA\n",
    "    df['rDEC'] = rDEC\n",
    "    df.to_csv(outfile_name)\n",
    "\n",
    "    return()"
   ]
  },
  {
   "cell_type": "code",
   "execution_count": 212,
   "metadata": {},
   "outputs": [],
   "source": [
    "#2D COVERAGE\n",
    "tab_loc = '/home/machado.35/projects/intro/phangs_sample_table_v1p6.fits'\n",
    "t = Table.read(tab_loc)\n",
    "n_clouds = 1e6\n",
    "for k in range(len(res)):\n",
    "    for i in range(len(sources)):\n",
    "        image = mask_fp+sources[i]+'_12m+7m+tp_co21_'+str(res[k])+'pc_coverage2d.fits'\n",
    "        if os.path.isfile(image):\n",
    "            row = int(np.where(t['name'] == sources[i])[0])\n",
    "            galRA=t[row]['orient_ra']\n",
    "            galDEC=t[row]['orient_dec']\n",
    "            pa=t[row]['orient_posang']\n",
    "            incl=t[row]['orient_incl']\n",
    "            galDist=t[row]['dist']\n",
    "            outfile_name = '/data/rubin/machado.35/phangs/rand_results/1e6/'+sources[i]+'_2dcov'+'_'+str(res[k])+'pc.csv'\n",
    "            place_nclouds_in_map(image, n_clouds, outfile_name, galRA, galDEC, pa, incl, galDist)"
   ]
  },
  {
   "cell_type": "code",
   "execution_count": 214,
   "metadata": {},
   "outputs": [],
   "source": [
    "#EXP MASK\n",
    "tab_loc = '/home/machado.35/projects/intro/phangs_sample_table_v1p6.fits'\n",
    "t = Table.read(tab_loc)\n",
    "n_clouds = 1e6\n",
    "for k in range(len(res)):\n",
    "    for i in range(len(sources)):\n",
    "        image = '/home/machado.35/projects/masks/exp/'+sources[i]+'_'+str(res[k])+'pc_exp_mask.fits'\n",
    "        if os.path.isfile(image):\n",
    "            row = int(np.where(t['name'] == sources[i])[0])\n",
    "            galRA=t[row]['orient_ra']\n",
    "            galDEC=t[row]['orient_dec']\n",
    "            pa=t[row]['orient_posang']\n",
    "            incl=t[row]['orient_incl']\n",
    "            galDist=t[row]['dist']\n",
    "            outfile_name = '/data/rubin/machado.35/phangs/rand_results/1e6/'+sources[i]+'_exp'+'_'+str(res[k])+'pc.csv'\n",
    "            place_nclouds_in_map(image, n_clouds, outfile_name, galRA, galDEC, pa, incl, galDist)"
   ]
  },
  {
   "cell_type": "code",
   "execution_count": 206,
   "metadata": {},
   "outputs": [],
   "source": [
    "from astropy.io import fits\n",
    "f = fits.open(image)\n",
    "data = f[0].data\n",
    "#data[np.where(data < 0)] = 0\n",
    "#np.mean(data)\n"
   ]
  },
  {
   "cell_type": "code",
   "execution_count": null,
   "metadata": {},
   "outputs": [],
   "source": [
    "if np.any(data < 0):\n",
    "    data[np.where(data < 0)] = 0"
   ]
  },
  {
   "cell_type": "code",
   "execution_count": 30,
   "metadata": {},
   "outputs": [
    {
     "data": {
      "text/plain": [
       "<matplotlib.collections.PathCollection at 0x7f78d03a3c50>"
      ]
     },
     "execution_count": 30,
     "metadata": {},
     "output_type": "execute_result"
    },
    {
     "data": {
      "image/png": "[encoded data removed]",
      "text/plain": [
       "<Figure size 432x288 with 1 Axes>"
      ]
     },
     "metadata": {
      "needs_background": "light"
     },
     "output_type": "display_data"
    }
   ],
   "source": [
    "df = pd.read_csv('ngc3621_flat_testrun.csv')\n",
    "ra = df['rRA']\n",
    "dec = df['rDEC']\n",
    "plt.scatter(ra, dec)"
   ]
  },
  {
   "cell_type": "code",
   "execution_count": 38,
   "metadata": {},
   "outputs": [
    {
     "data": {
      "text/plain": [
       "<matplotlib.collections.PathCollection at 0x7f78cf847f98>"
      ]
     },
     "execution_count": 38,
     "metadata": {},
     "output_type": "execute_result"
    },
    {
     "data": {
      "image/png": "[encoded data removed]",
      "text/plain": [
       "<Figure size 432x288 with 1 Axes>"
      ]
     },
     "metadata": {
      "needs_background": "light"
     },
     "output_type": "display_data"
    }
   ],
   "source": [
    "df = pd.read_csv('ngc3621_exp_testrun.csv')\n",
    "ra = df['rRA']\n",
    "dec = df['rDEC']\n",
    "plt.scatter(ra[0:1000], dec[0:1000],alpha=0.1)"
   ]
  },
  {
   "cell_type": "code",
   "execution_count": 136,
   "metadata": {},
   "outputs": [],
   "source": [
    "def pair_dist_calc(x,y):\n",
    "    n = len(x)\n",
    "    x1 = np.tile(x, (n,1)) #constant x along column\n",
    "    y1 = np.tile(y, (n,1)) #constant y along column\n",
    "    x2 = np.transpose(x1) #constant x along rows\n",
    "    y2 = np.transpose(y1) #constant y along rows\n",
    "    dist = np.sqrt((x1-x2)**2 + (y1-y2)**2)\n",
    "    \n",
    "    np.ndarray.sort(dist, axis=1)\n",
    "    mindist = dist[:,1]\n",
    "    #np.fill_diagonal(dist, np.nan)\n",
    "    #mindist = np.nanmin(dist, axis=0)\n",
    "    \n",
    "    #print(dist)\n",
    "    #print()\n",
    "    #print(mindist)\n",
    "    return(mindist)"
   ]
  },
  {
   "cell_type": "code",
   "execution_count": 244,
   "metadata": {},
   "outputs": [
    {
     "data": {
      "text/plain": [
       "7.06"
      ]
     },
     "execution_count": 244,
     "metadata": {},
     "output_type": "execute_result"
    }
   ],
   "source": [
    "tab_loc = '/home/machado.35/projects/intro/phangs_sample_table_v1p6.fits'\n",
    "t = Table.read(tab_loc)\n",
    "row = int(np.where(t['name'] == 'ngc3621')[0])\n",
    "t['dist'][row]"
   ]
  },
  {
   "cell_type": "code",
   "execution_count": 255,
   "metadata": {},
   "outputs": [
    {
     "data": {
      "text/plain": [
       "87.01020930417869"
      ]
     },
     "execution_count": 255,
     "metadata": {},
     "output_type": "execute_result"
    }
   ],
   "source": [
    "ra1 = df['rRA'][5]\n",
    "dec1 = df['rDEC'][5]\n",
    "ra2 = df['rRA'][6]\n",
    "dec2 = df['rDEC'][6]\n",
    "np.sqrt(np.square(ra1 - ra2) + np.square(dec1 - dec2))*7200"
   ]
  },
  {
   "cell_type": "code",
   "execution_count": 257,
   "metadata": {},
   "outputs": [],
   "source": [
    "#2D COVERAGE\n",
    "tab_loc = '/home/machado.35/projects/intro/phangs_sample_table_v1p6.fits'\n",
    "t = Table.read(tab_loc)\n",
    "for k in range(len(res)):\n",
    "    for i in range(len(sources)):\n",
    "        image = mask_fp+sources[i]+'_12m+7m+tp_co21_'+str(res[k])+'pc_coverage2d.fits'\n",
    "        cat_fp = '/home/machado.35/projects/intro/sources/'+sources[i]+'/'+sources[i]+'_'+str(res[k])+'pc_cloud_stats.csv'\n",
    "        if os.path.isfile(image):\n",
    "            if os.path.isfile(cat_fp):\n",
    "                row = int(np.where(t['name'] == sources[i])[0])\n",
    "                dist = t['dist'][row]*1000 #times 1000 to go from Mpc to pc\n",
    "                fn = '/data/rubin/machado.35/phangs/rand_results/1e6/'+sources[i]+'_2dcov'+'_'+str(res[k])+'pc.csv'\n",
    "                df = pd.read_csv(fn)\n",
    "                cat = pd.read_csv(cat_fp)\n",
    "                x = df['rRA']\n",
    "                y = df['rDEC']\n",
    "                N_tot = len(x)\n",
    "                n_it = len(cat)\n",
    "                n_loops = int(np.floor(N_tot / n_it))\n",
    "                mindist = np.zeros_like(x)*np.nan\n",
    "                for ii in np.arange(n_loops):\n",
    "                    tx = x[ii*n_it:(ii+1)*n_it]\n",
    "                    ty = y[ii*n_it:(ii+1)*n_it]\n",
    "                    mindist[ii*n_it:(ii+1)*n_it] = pair_dist_calc(x=tx,y=ty)\n",
    "                df['nn_dist'] = mindist * dist\n",
    "                df.to_csv(fn)"
   ]
  },
  {
   "cell_type": "code",
   "execution_count": 258,
   "metadata": {},
   "outputs": [],
   "source": [
    "#EXP DISK\n",
    "tab_loc = '/home/machado.35/projects/intro/phangs_sample_table_v1p6.fits'\n",
    "t = Table.read(tab_loc)\n",
    "for k in range(len(res)):\n",
    "    for i in range(len(sources)):\n",
    "        image = '/home/machado.35/projects/masks/exp/'+sources[i]+'_'+str(res[k])+'pc_exp_mask.fits'\n",
    "        cat_fp = '/home/machado.35/projects/intro/sources/'+sources[i]+'/'+sources[i]+'_'+str(res[k])+'pc_cloud_stats.csv'\n",
    "        if os.path.isfile(image):\n",
    "            if os.path.isfile(cat_fp):\n",
    "                row = int(np.where(t['name'] == sources[i])[0])\n",
    "                dist = t['dist'][row]*1000 #times 1000 to go from Mpc to pc\n",
    "                fn = '/data/rubin/machado.35/phangs/rand_results/1e6/'+sources[i]+'_exp'+'_'+str(res[k])+'pc.csv'\n",
    "                df = pd.read_csv(fn)\n",
    "                cat = pd.read_csv(cat_fp)\n",
    "                x = df['rRA']\n",
    "                y = df['rDEC']\n",
    "                N_tot = len(x)\n",
    "                n_it = len(cat)\n",
    "                n_loops = int(np.floor(N_tot / n_it))\n",
    "                mindist = np.zeros_like(x)*np.nan\n",
    "                for ii in np.arange(n_loops):\n",
    "                    tx = x[ii*n_it:(ii+1)*n_it]\n",
    "                    ty = y[ii*n_it:(ii+1)*n_it]\n",
    "                    mindist[ii*n_it:(ii+1)*n_it] = pair_dist_calc(x=tx,y=ty)\n",
    "                df['nn_dist'] = mindist * dist\n",
    "                df.to_csv(fn)"
   ]
  },
  {
   "cell_type": "code",
   "execution_count": null,
   "metadata": {},
   "outputs": [],
   "source": [
    "df = pd.read_csv('ngc3621_exp_testrun.csv')\n",
    "x = df['rX']\n",
    "y = df['rY']\n",
    "N_tot = len(x)\n",
    "n_it = 150\n",
    "n_loops = int(np.floor(N_tot / n_it))\n",
    "counter = 0\n",
    "print(str(N_tot)+' total points, with '+str(n_it)+' iterations. '+str(n_loops)+' to complete')\n",
    "mindist = np.zeros_like(x)*np.nan\n",
    "for ii in np.arange(n_loops):\n",
    "    tx = x[ii*n_it:(ii+1)*n_it]\n",
    "    ty = y[ii*n_it:(ii+1)*n_it]\n",
    "    mindist[ii*n_it:(ii+1)*n_it] = pair_dist_calc(x=tx,y=ty)"
   ]
  },
  {
   "cell_type": "markdown",
   "metadata": {},
   "source": [
    "i = 32 #source = ngc3621\n",
    "k = 0 #60pc res\n",
    "\n",
    "tab_loc = '/home/machado.35/projects/intro/phangs_sample_table_v1p6.fits'\n",
    "t = Table.read(tab_loc)\n",
    "row = int(np.where(t['name'] == sources[i])[0])\n",
    "galRA=t[row]['orient_ra']\n",
    "galDEC=t[row]['orient_dec']\n",
    "pa=t[row]['orient_posang']\n",
    "incl=t[row]['orient_incl']\n",
    "galDist=t[row]['dist']\n",
    "\n",
    "#image = mask_fp+sources[i]+'_12m+7m+tp_co21_'+str(res[k])+'pc_coverage2d.fits'\n",
    "image = '/home/machado.35/projects/masks/exp/'+sources[i]+'_'+str(res[k])+'pc_exp_mask.fits'\n",
    "n_clouds = 1e6\n",
    "outfile_name = 'ngc3621_exp_testrun.csv'\n",
    "\n",
    "start_time = time.time()\n",
    "place_nclouds_in_map(image, n_clouds, outfile_name, galRA, galDEC, pa, incl, galDist)\n",
    "stop_time = time.time()\n",
    "print(stop_time-start_time)"
   ]
  },
  {
   "cell_type": "code",
   "execution_count": null,
   "metadata": {},
   "outputs": [],
   "source": [
    "#2D COVERAGE\n",
    "tab_loc = '/home/machado.35/projects/intro/phangs_sample_table_v1p6.fits'\n",
    "t = Table.read(tab_loc)\n",
    "for k in range(len(res)):\n",
    "    for i in range(len(sources)):\n",
    "        fn = '/data/rubin/machado.35/phangs/rand_results/1e6/'+sources[i]+'_2dcov'+'_'+str(res[k])+'pc.csv'\n",
    "        if os.path.isfile(fn):\n",
    "            row = int(np.where(t['name'] == sources[i])[0])\n",
    "            dist = t['dist'][row]\n",
    "            df = pd.read_csv(fn)\n",
    "            df['nn_dist'] = df['nn_dist'] * dist\n",
    "        image = mask_fp+sources[i]+'_12m+7m+tp_co21_'+str(res[k])+'pc_coverage2d.fits'\n",
    "        cat_fp = '/home/machado.35/projects/intro/sources/'+sources[i]+'/'+sources[i]+'_'+str(res[k])+'pc_cloud_stats.csv'\n",
    "        if os.path.isfile(image):\n",
    "            if os.path.isfile(cat_fp):\n",
    "                row = int(np.where(t['name'] == sources[i])[0])\n",
    "                dist = t['dist'][row]\n",
    "                fn = '/data/rubin/machado.35/phangs/rand_results/1e6/'+sources[i]+'_2dcov'+'_'+str(res[k])+'pc.csv'\n",
    "                df = pd.read_csv(fn)\n",
    "                cat = pd.read_csv(cat_fp)\n",
    "                x = df['rX']\n",
    "                y = df['rY']\n",
    "                N_tot = len(x)\n",
    "                n_it = len(cat)\n",
    "                n_loops = int(np.floor(N_tot / n_it))\n",
    "                mindist = np.zeros_like(x)*np.nan\n",
    "                for ii in np.arange(n_loops):\n",
    "                    tx = x[ii*n_it:(ii+1)*n_it]\n",
    "                    ty = y[ii*n_it:(ii+1)*n_it]\n",
    "                    mindist[ii*n_it:(ii+1)*n_it] = pair_dist_calc(x=tx,y=ty)\n",
    "                df['nn_dist'] = mindist\n",
    "                df.to_csv(fn)"
   ]
  }
 ],
 "metadata": {
  "kernelspec": {
   "display_name": "Python 3",
   "language": "python",
   "name": "python3"
  },
  "language_info": {
   "codemirror_mode": {
    "name": "ipython",
    "version": 3
   },
   "file_extension": ".py",
   "mimetype": "text/x-python",
   "name": "python",
   "nbconvert_exporter": "python",
   "pygments_lexer": "ipython3",
   "version": "3.7.2"
  }
 },
 "nbformat": 4,
 "nbformat_minor": 4
}
