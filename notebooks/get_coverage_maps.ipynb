{
 "cells": [
  {
   "cell_type": "code",
   "execution_count": 1,
   "id": "interior-information",
   "metadata": {},
   "outputs": [],
   "source": [
    "import pandas as pd\n",
    "import shutil\n",
    "import os.path"
   ]
  },
  {
   "cell_type": "code",
   "execution_count": 4,
   "id": "adapted-dietary",
   "metadata": {},
   "outputs": [],
   "source": [
    "sources = pd.read_csv('/home/machado.35/projects/intro/scripts/sources.csv')\n",
    "sources = list(sources['sources'])\n",
    "fp = '/data/tycho/leroy.42/reduction/alma/phangs-alma/derived/'\n",
    "\n",
    "res = [60,90,120,150]"
   ]
  },
  {
   "cell_type": "code",
   "execution_count": 31,
   "id": "desirable-naples",
   "metadata": {},
   "outputs": [],
   "source": [
    "for i in range(len(res)):\n",
    "    for k in range(len(sources)):\n",
    "        file = r'/data/tycho/leroy.42/reduction/alma/phangs-alma/derived/'+sources[k]+'/'+sources[k]+'_12m+7m+tp_co21_'+str(res[i])+'pc_coverage2d.fits'\n",
    "        out = r'/home/machado.35/projects/masks/coverage/'+sources[k]+'_12m+7m+tp_co21_'+str(res[i])+'pc_coverage2d.fits'\n",
    "        if os.path.isfile(file):\n",
    "            shutil.copyfile(file,out)"
   ]
  },
  {
   "cell_type": "code",
   "execution_count": 19,
   "id": "sitting-liquid",
   "metadata": {},
   "outputs": [
    {
     "name": "stdout",
     "output_type": "stream",
     "text": [
      "/home\n"
     ]
    }
   ],
   "source": [
    "original = r'original path where the file is currently stored\\file name.file extension'\n",
    "target = r'target path where the file will be copied\\file name.file extension'\n",
    "\n",
    "shutil.copyfile(original, target)"
   ]
  },
  {
   "cell_type": "code",
   "execution_count": 5,
   "id": "potential-blood",
   "metadata": {},
   "outputs": [
    {
     "name": "stdout",
     "output_type": "stream",
     "text": [
      "\u001b[0m\u001b[01;34mcircinus\u001b[0m/  \u001b[01;34mngc1317\u001b[0m/  \u001b[01;34mngc2283\u001b[0m/  \u001b[01;34mngc3596\u001b[0m/  \u001b[01;34mngc4476\u001b[0m/   \u001b[01;34mngc4731\u001b[0m/  \u001b[01;34mngc6300\u001b[0m/\r\n",
      "\u001b[01;34mic1954\u001b[0m/    \u001b[01;34mngc1365\u001b[0m/  \u001b[01;34mngc2566\u001b[0m/  \u001b[01;34mngc3599\u001b[0m/  \u001b[01;34mngc4477\u001b[0m/   \u001b[01;34mngc4781\u001b[0m/  \u001b[01;34mngc6744\u001b[0m/\r\n",
      "\u001b[01;34mic5273\u001b[0m/    \u001b[01;34mngc1385\u001b[0m/  \u001b[01;34mngc2775\u001b[0m/  \u001b[01;34mngc3621\u001b[0m/  \u001b[01;34mngc4496a\u001b[0m/  \u001b[01;34mngc4826\u001b[0m/  \u001b[01;34mngc7456\u001b[0m/\r\n",
      "\u001b[01;34mic5332\u001b[0m/    \u001b[01;34mngc1433\u001b[0m/  \u001b[01;34mngc2835\u001b[0m/  \u001b[01;34mngc3626\u001b[0m/  \u001b[01;34mngc4535\u001b[0m/   \u001b[01;34mngc4941\u001b[0m/  \u001b[01;34mngc7496\u001b[0m/\r\n",
      "\u001b[01;34mngc0247\u001b[0m/   \u001b[01;34mngc1511\u001b[0m/  \u001b[01;34mngc2903\u001b[0m/  \u001b[01;34mngc3627\u001b[0m/  \u001b[01;34mngc4536\u001b[0m/   \u001b[01;34mngc4945\u001b[0m/  \u001b[01;34mngc7743\u001b[0m/\r\n",
      "\u001b[01;34mngc0253\u001b[0m/   \u001b[01;34mngc1512\u001b[0m/  \u001b[01;34mngc2997\u001b[0m/  \u001b[01;34mngc4207\u001b[0m/  \u001b[01;34mngc4540\u001b[0m/   \u001b[01;34mngc4951\u001b[0m/  \u001b[01;34mngc7793\u001b[0m/\r\n",
      "\u001b[01;34mngc0300\u001b[0m/   \u001b[01;34mngc1546\u001b[0m/  \u001b[01;34mngc3059\u001b[0m/  \u001b[01;34mngc4254\u001b[0m/  \u001b[01;34mngc4548\u001b[0m/   \u001b[01;34mngc5042\u001b[0m/  quicklook.pro\r\n",
      "\u001b[01;34mngc0628\u001b[0m/   \u001b[01;34mngc1559\u001b[0m/  \u001b[01;34mngc3137\u001b[0m/  \u001b[01;34mngc4293\u001b[0m/  \u001b[01;34mngc4569\u001b[0m/   \u001b[01;34mngc5068\u001b[0m/  quicklook.pro~\r\n",
      "\u001b[01;34mngc0685\u001b[0m/   \u001b[01;34mngc1566\u001b[0m/  \u001b[01;34mngc3239\u001b[0m/  \u001b[01;34mngc4298\u001b[0m/  \u001b[01;34mngc4571\u001b[0m/   \u001b[01;34mngc5128\u001b[0m/\r\n",
      "\u001b[01;34mngc1068\u001b[0m/   \u001b[01;34mngc1637\u001b[0m/  \u001b[01;34mngc3351\u001b[0m/  \u001b[01;34mngc4303\u001b[0m/  \u001b[01;34mngc4579\u001b[0m/   \u001b[01;34mngc5134\u001b[0m/\r\n",
      "\u001b[01;34mngc1087\u001b[0m/   \u001b[01;34mngc1672\u001b[0m/  \u001b[01;34mngc3489\u001b[0m/  \u001b[01;34mngc4321\u001b[0m/  \u001b[01;34mngc4596\u001b[0m/   \u001b[01;34mngc5236\u001b[0m/\r\n",
      "\u001b[01;34mngc1097\u001b[0m/   \u001b[01;34mngc1792\u001b[0m/  \u001b[01;34mngc3507\u001b[0m/  \u001b[01;34mngc4424\u001b[0m/  \u001b[01;34mngc4654\u001b[0m/   \u001b[01;34mngc5248\u001b[0m/\r\n",
      "\u001b[01;34mngc1300\u001b[0m/   \u001b[01;34mngc1809\u001b[0m/  \u001b[01;34mngc3511\u001b[0m/  \u001b[01;34mngc4457\u001b[0m/  \u001b[01;34mngc4689\u001b[0m/   \u001b[01;34mngc5530\u001b[0m/\r\n",
      "\u001b[01;34mngc1313\u001b[0m/   \u001b[01;34mngc2090\u001b[0m/  \u001b[01;34mngc3521\u001b[0m/  \u001b[01;34mngc4459\u001b[0m/  \u001b[01;34mngc4694\u001b[0m/   \u001b[01;34mngc5643\u001b[0m/\r\n"
     ]
    }
   ],
   "source": [
    "ls /data/tycho/leroy.42/reduction/alma/phangs-alma/derived/"
   ]
  },
  {
   "cell_type": "code",
   "execution_count": 29,
   "id": "disabled-clinton",
   "metadata": {},
   "outputs": [
    {
     "data": {
      "text/plain": [
       "'/data/tycho/leroy.42/reduction/alma/phangs-alma/derived/ic1954/ic1954_12m+7m+tp_co21_60pc_coverage2d.fits'"
      ]
     },
     "execution_count": 29,
     "metadata": {},
     "output_type": "execute_result"
    }
   ],
   "source": [
    "file"
   ]
  },
  {
   "cell_type": "code",
   "execution_count": null,
   "id": "indian-gazette",
   "metadata": {},
   "outputs": [],
   "source": []
  }
 ],
 "metadata": {
  "kernelspec": {
   "display_name": "Python 3",
   "language": "python",
   "name": "python3"
  },
  "language_info": {
   "codemirror_mode": {
    "name": "ipython",
    "version": 3
   },
   "file_extension": ".py",
   "mimetype": "text/x-python",
   "name": "python",
   "nbconvert_exporter": "python",
   "pygments_lexer": "ipython3",
   "version": "3.7.2"
  }
 },
 "nbformat": 4,
 "nbformat_minor": 5
}
