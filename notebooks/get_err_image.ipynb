{
 "cells": [
  {
   "cell_type": "code",
   "execution_count": 1,
   "id": "endangered-concept",
   "metadata": {},
   "outputs": [],
   "source": [
    "import pandas as pd\n",
    "import shutil\n",
    "import os.path"
   ]
  },
  {
   "cell_type": "code",
   "execution_count": 6,
   "id": "transsexual-words",
   "metadata": {},
   "outputs": [],
   "source": [
    "sources = pd.read_csv('/home/machado.35/projects/intro/scripts/sources.csv')\n",
    "sources = list(sources['sources'])\n",
    "fp = '/data/tycho/leroy.42/reduction/alma/phangs-alma/derived/'\n",
    "\n",
    "res = [60,90,120,150]"
   ]
  },
  {
   "cell_type": "code",
   "execution_count": null,
   "id": "exclusive-supplier",
   "metadata": {},
   "outputs": [],
   "source": [
    "for i in range(len(res)):\n",
    "    for k in range(len(sources)):\n",
    "        file = r'/data/tycho/leroy.42/reduction/alma/phangs-alma/derived/'+sources[k]+'/'+sources[k]+'_12m+7m+tp_co21_'+str(res[i])+'pc_coverage2d.fits'\n",
    "        out = r'/home/machado.35/projects/masks/coverage/'+sources[k]+'_12m+7m+tp_co21_'+str(res[i])+'pc_coverage2d.fits'\n",
    "        if os.path.isfile(file):\n",
    "            shutil.copyfile(file,out)"
   ]
  },
  {
   "cell_type": "code",
   "execution_count": null,
   "id": "studied-underwear",
   "metadata": {},
   "outputs": [],
   "source": [
    "original = r'original path where the file is currently stored\\file name.file extension'\n",
    "target = r'target path where the file will be copied\\file name.file extension'\n",
    "\n",
    "shutil.copyfile(original, target)"
   ]
  }
 ],
 "metadata": {
  "kernelspec": {
   "display_name": "Python 3",
   "language": "python",
   "name": "python3"
  },
  "language_info": {
   "codemirror_mode": {
    "name": "ipython",
    "version": 3
   },
   "file_extension": ".py",
   "mimetype": "text/x-python",
   "name": "python",
   "nbconvert_exporter": "python",
   "pygments_lexer": "ipython3",
   "version": "3.7.2"
  }
 },
 "nbformat": 4,
 "nbformat_minor": 5
}
