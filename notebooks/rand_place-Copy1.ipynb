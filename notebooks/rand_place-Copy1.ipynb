{
 "cells": [
  {
   "cell_type": "code",
   "execution_count": 3,
   "metadata": {},
   "outputs": [],
   "source": [
    "import numpy as np\n",
    "from astropy.io import fits\n",
    "import astropy.io.fits as pyfits\n",
    "from astropy.wcs import WCS\n",
    "import matplotlib.pyplot as plt\n",
    "from astropy.table import Table\n",
    "import pandas as pd\n",
    "import math\n",
    "import random as r\n",
    "import scipy.stats\n",
    "import os.path\n",
    "import sys\n",
    "sys.path.append('/home/machado.35/projects/notebooks')\n",
    "from deprojectGalaxy import deproject\n",
    "import time"
   ]
  },
  {
   "cell_type": "code",
   "execution_count": 9,
   "metadata": {},
   "outputs": [],
   "source": [
    "# This block of code contains the supporting functions to generate \n",
    "# a random distribution, you should not need to call any of these \n",
    "# funcitons specifically.\n",
    "\n",
    "def arraySort(variable, distance):\n",
    "    # sorts variable and distance list by shortest distance\n",
    "    # variable, distance: lists holding measurement of variable and distance to that measurement\n",
    "    pattern = distance.argsort()\n",
    "    dist = distance[pattern]\n",
    "    var = variable[pattern]\n",
    "    return (var, dist)\n",
    "\n",
    "def findNearest(varArray, value, distArray):\n",
    "    # sorts variable by distance, returning the closest that has the given value \n",
    "    # varArray, distArray: arrays holding measurement of variable and distance to that measurement\n",
    "    # value: float. \n",
    "    var, dist = arraySort(varArray, distArray)\n",
    "    ind = np.where(var >= value)\n",
    "    \n",
    "    if len(dist[ind]) > 0:\n",
    "        nearestVal  = np.argmin(dist[ind])\n",
    "        nearestDist = dist[ind][nearestVal] \n",
    "        varVal     = var[ind][nearestVal]\n",
    "\n",
    "    else:\n",
    "        varVal     = float('nan')\n",
    "        nearestDist = float('nan')\n",
    "        \n",
    "    return(varVal, nearestDist)\n",
    "    \n",
    "def printNearest(inten, SNR, dist_kpc, value, SNRcutoff = 0.0):\n",
    "    # returns distance to the nearest molecular cloud and the intensity value found\n",
    "    \n",
    "    #apply SNR cutoff\n",
    "    intenCut, dist_kpcCut = [],[]\n",
    "    for i in range(len(inten)):\n",
    "        if (SNR[i] >= SNRcutoff):\n",
    "            intenCut.append(inten[i])\n",
    "            dist_kpcCut.append(dist_kpc[i])\n",
    "    \n",
    "    valFound, nearestMC = findNearest(np.array(intenCut), value, np.array(dist_kpcCut))\n",
    "    \n",
    "    return(nearestMC, valFound)      \n",
    "\n",
    "def distanceCalculator(x1, x2, y1, y2, galDist):\n",
    "    #calculate distance between two points (in kpc)\n",
    "    #x1, y1 = xprime and yprime, x2, y2 = SN coords, dist = distance to galaxy (kpc)\n",
    "    d = np.sqrt((x2-x1)**2 + (y2-y1)**2)\n",
    "    x = galDist * np.tan(d*np.pi/180.0)\n",
    "    return(x)\n",
    "\n",
    "def normalize(weightsArray):\n",
    "    # takes a list of weights and normalizes them\n",
    "    prob_factor = 1 / sum(weightsArray)\n",
    "    return [prob_factor * p for p in weightsArray]\n"
   ]
  },
  {
   "cell_type": "code",
   "execution_count": 10,
   "metadata": {},
   "outputs": [],
   "source": [
    "def place_nclouds_in_map(image, n_clouds, outfile_name, galRA, galDEC, pa, incl, galDist):\n",
    "    \n",
    "    hdulist   = pyfits.open(image)\n",
    "    intMap    = hdulist[0].data\n",
    "        \n",
    "    wcs      = WCS(hdulist[0].header, naxis=2)\n",
    "    naxis    = wcs._naxis # size of image naxis[0] = x and [1] = y\n",
    "    grid     = np.indices((naxis[1],naxis[0]))\n",
    "    ra, dec  = wcs.wcs_pix2world(grid[1],grid[0],0)\n",
    "\n",
    "    centerCoord = [galRA, galDEC]\n",
    "    \n",
    "    #deproject ra and dec to dx and dy\n",
    "    radius, projang, dx, dy = deproject(center_coord=centerCoord, incl=incl, pa=pa, ra=ra, dec=dec, return_offset=True)\n",
    "    \n",
    "\n",
    "    #flatten data structures \n",
    "    f_int  = intMap.flatten()\n",
    "    f_ra   = ra.flatten()\n",
    "    f_dec  = dec.flatten()    \n",
    "    f_dx   = dx.flatten()\n",
    "    f_dy   = dy.flatten()       \n",
    "    \n",
    "    #remove nans\n",
    "    keep  = np.where(np.isfinite(f_int))\n",
    "    inten = f_int[keep]\n",
    "    ra    = f_ra[keep]\n",
    "    dec   = f_dec[keep]\n",
    "    dx    = f_dx[keep]\n",
    "    dy    = f_dy[keep]\n",
    "    \n",
    "    if np.any(inten < 0):\n",
    "        inten[np.where(inten < 0)] = 0\n",
    "    \n",
    "    #Convert image into probabilities\n",
    "    total = sum(inten)\n",
    "    prob  = inten/total\n",
    "    \n",
    "    #Generates index for each coordinate pair\n",
    "    nX = len(dx)  \n",
    "    indicies = np.arange(nX, dtype=int)\n",
    "    \n",
    "    \n",
    "    #Probability weighted random placement\n",
    "    randInt = np.random.choice(indicies, p=prob, size=int(n_clouds))\n",
    "\n",
    "    rX   = dx[randInt]\n",
    "    rY   = dy[randInt]\n",
    "    rRA  = ra[randInt]\n",
    "    rDEC = dec[randInt]\n",
    "    \n",
    "    df = pd.DataFrame()\n",
    "    df['rX'] = rX\n",
    "    df['rY'] = rY\n",
    "    df['rRA'] = rRA\n",
    "    df['rDEC'] = rDEC\n",
    "    df.to_csv(outfile_name)\n",
    "\n",
    "    return()"
   ]
  },
  {
   "cell_type": "code",
   "execution_count": 13,
   "metadata": {},
   "outputs": [],
   "source": [
    "sources = pd.read_csv('/home/machado.35/projects/intro/scripts/sources.csv')\n",
    "sources = list(sources['sources'])\n",
    "\n",
    "res = [60,90,120,150]"
   ]
  },
  {
   "cell_type": "code",
   "execution_count": null,
   "metadata": {},
   "outputs": [],
   "source": [
    "#2D COVERAGE\n",
    "n_clouds = 1e6\n",
    "for k in range(len(res)):\n",
    "    for i in range(len(sources)):\n",
    "        image = mask_fp+sources[i]+'_12m+7m+tp_co21_'+str(res[k])+'pc_coverage2d.fits'\n",
    "        if os.path.isfile(image):\n",
    "            row = int(np.where(t['name'] == sources[i])[0])\n",
    "            galRA=t[row]['orient_ra']\n",
    "            galDEC=t[row]['orient_dec']\n",
    "            pa=t[row]['orient_posang']\n",
    "            incl=t[row]['orient_incl']\n",
    "            galDist=t[row]['dist']\n",
    "            outfile_name = '/data/rubin/machado.35/phangs/rand_results/1e6/'+sources[i]+'_2dcov'+'_'+str(res[k])+'pc.csv'\n",
    "            place_nclouds_in_map(image, n_clouds, outfile_name, galRA, galDEC, pa, incl, galDist)"
   ]
  },
  {
   "cell_type": "code",
   "execution_count": null,
   "metadata": {},
   "outputs": [],
   "source": [
    "#EXP MASK\n",
    "tab_loc = '/home/machado.35/projects/intro/phangs_sample_table_v1p6.fits'\n",
    "t = Table.read(tab_loc)\n",
    "n_clouds = 1e6\n",
    "for k in range(len(res)):\n",
    "    for i in range(len(sources)):\n",
    "        image = '/home/machado.35/projects/masks/exp/'+sources[i]+'_'+str(res[k])+'pc_exp_mask.fits'\n",
    "        if os.path.isfile(image):\n",
    "            row = int(np.where(t['name'] == sources[i])[0])\n",
    "            galRA=t[row]['orient_ra']\n",
    "            galDEC=t[row]['orient_dec']\n",
    "            pa=t[row]['orient_posang']\n",
    "            incl=t[row]['orient_incl']\n",
    "            galDist=t[row]['dist']\n",
    "            outfile_name = '/data/rubin/machado.35/phangs/rand_results/1e6/'+sources[i]+'_exp'+'_'+str(res[k])+'pc.csv'\n",
    "            place_nclouds_in_map(image, n_clouds, outfile_name, galRA, galDEC, pa, incl, galDist)"
   ]
  },
  {
   "cell_type": "code",
   "execution_count": 12,
   "metadata": {},
   "outputs": [],
   "source": [
    "def pair_dist_calc(x,y):\n",
    "    n = len(x)\n",
    "    x1 = np.tile(x, (n,1)) #constant x along column\n",
    "    y1 = np.tile(y, (n,1)) #constant y along column\n",
    "    x2 = np.transpose(x1) #constant x along rows\n",
    "    y2 = np.transpose(y1) #constant y along rows\n",
    "    dist = np.sqrt((x1-x2)**2 + (y1-y2)**2)\n",
    "    \n",
    "    np.ndarray.sort(dist, axis=1)\n",
    "    mindist = dist[:,1]\n",
    "\n",
    "    return(mindist)"
   ]
  },
  {
   "cell_type": "code",
   "execution_count": 37,
   "metadata": {},
   "outputs": [],
   "source": [
    "def rad_density(x,y,rad,galdist):\n",
    "    n = len(x)\n",
    "    x1 = np.tile(x, (n,1)) #constant x along column\n",
    "    y1 = np.tile(y, (n,1)) #constant y along column\n",
    "    x2 = np.transpose(x1) #constant x along rows\n",
    "    y2 = np.transpose(y1) #constant y along rows\n",
    "    dist = np.sqrt((x1-x2)**2 + (y1-y2)**2)\n",
    "    dist = np.deg2rad(dist)*galdist\n",
    "    inrad = dist < rad \n",
    "    counts = np.sum(inrad, axis=0) - 1 #subtract one because each cloud has 0 distance to itself and will be counted\n",
    "    return(counts)"
   ]
  },
  {
   "cell_type": "code",
   "execution_count": 68,
   "metadata": {},
   "outputs": [],
   "source": [
    "tab_loc = '/home/machado.35/projects/intro/phangs_sample_table_v1p6.fits'\n",
    "t = Table.read(tab_loc)\n",
    "distance = t[t['name'] == 'ngc3621']['dist'][0] * 1e6"
   ]
  },
  {
   "cell_type": "code",
   "execution_count": 90,
   "metadata": {},
   "outputs": [],
   "source": [
    "x = df['rRA']\n",
    "y = df['rDEC']\n",
    "N_tot = len(x)\n",
    "n_it = len(cat)\n",
    "n_loops = int(np.floor(N_tot / n_it))\n",
    "clouds_in_range = np.zeros_like(x)*np.nan\n",
    "z = np.zeros_like(x)*np.nan\n",
    "for ii in np.arange(n_loops):\n",
    "    tx = x[ii*n_it:(ii+1)*n_it]\n",
    "    ty = y[ii*n_it:(ii+1)*n_it]\n",
    "    z[ii*n_it:(ii+1)*n_it] = rad_density(x=tx,y=ty, rad=400, galdist=distance)\n"
   ]
  },
  {
   "cell_type": "code",
   "execution_count": 96,
   "metadata": {},
   "outputs": [
    {
     "data": {
      "text/plain": [
       "(array([5.46722e+05, 1.72183e+05, 1.89362e+05, 4.40300e+04, 3.72650e+04,\n",
       "        6.04500e+03, 3.64800e+03, 4.44000e+02, 2.09000e+02, 1.20000e+01]),\n",
       " array([ 1. ,  2.5,  4. ,  5.5,  7. ,  8.5, 10. , 11.5, 13. , 14.5, 16. ]),\n",
       " <BarContainer object of 10 artists>)"
      ]
     },
     "execution_count": 96,
     "metadata": {},
     "output_type": "execute_result"
    },
    {
     "data": {
      "image/png": "[encoded data removed]",
      "text/plain": [
       "<Figure size 432x288 with 1 Axes>"
      ]
     },
     "metadata": {
      "needs_background": "light"
     },
     "output_type": "display_data"
    }
   ],
   "source": [
    "plt.hist(z)"
   ]
  },
  {
   "cell_type": "code",
   "execution_count": 23,
   "metadata": {},
   "outputs": [
    {
     "ename": "ValueError",
     "evalue": "could not broadcast input array from shape (145,145) into shape (145)",
     "output_type": "error",
     "traceback": [
      "\u001b[0;31m---------------------------------------------------------------------------\u001b[0m",
      "\u001b[0;31mValueError\u001b[0m                                Traceback (most recent call last)",
      "\u001b[0;32m<ipython-input-23-6071bd928da0>\u001b[0m in \u001b[0;36m<module>\u001b[0;34m\u001b[0m\n\u001b[1;32m      2\u001b[0m \u001b[0mtx\u001b[0m \u001b[0;34m=\u001b[0m \u001b[0mx\u001b[0m\u001b[0;34m[\u001b[0m\u001b[0mii\u001b[0m\u001b[0;34m*\u001b[0m\u001b[0mn_it\u001b[0m\u001b[0;34m:\u001b[0m\u001b[0;34m(\u001b[0m\u001b[0mii\u001b[0m\u001b[0;34m+\u001b[0m\u001b[0;36m1\u001b[0m\u001b[0;34m)\u001b[0m\u001b[0;34m*\u001b[0m\u001b[0mn_it\u001b[0m\u001b[0;34m]\u001b[0m\u001b[0;34m\u001b[0m\u001b[0;34m\u001b[0m\u001b[0m\n\u001b[1;32m      3\u001b[0m \u001b[0mty\u001b[0m \u001b[0;34m=\u001b[0m \u001b[0my\u001b[0m\u001b[0;34m[\u001b[0m\u001b[0mii\u001b[0m\u001b[0;34m*\u001b[0m\u001b[0mn_it\u001b[0m\u001b[0;34m:\u001b[0m\u001b[0;34m(\u001b[0m\u001b[0mii\u001b[0m\u001b[0;34m+\u001b[0m\u001b[0;36m1\u001b[0m\u001b[0;34m)\u001b[0m\u001b[0;34m*\u001b[0m\u001b[0mn_it\u001b[0m\u001b[0;34m]\u001b[0m\u001b[0;34m\u001b[0m\u001b[0;34m\u001b[0m\u001b[0m\n\u001b[0;32m----> 4\u001b[0;31m \u001b[0mclouds_in_range\u001b[0m\u001b[0;34m[\u001b[0m\u001b[0mii\u001b[0m\u001b[0;34m*\u001b[0m\u001b[0mn_it\u001b[0m\u001b[0;34m:\u001b[0m\u001b[0;34m(\u001b[0m\u001b[0mii\u001b[0m\u001b[0;34m+\u001b[0m\u001b[0;36m1\u001b[0m\u001b[0;34m)\u001b[0m\u001b[0;34m*\u001b[0m\u001b[0mn_it\u001b[0m\u001b[0;34m]\u001b[0m \u001b[0;34m=\u001b[0m \u001b[0mrad_density\u001b[0m\u001b[0;34m(\u001b[0m\u001b[0mx\u001b[0m\u001b[0;34m=\u001b[0m\u001b[0mtx\u001b[0m\u001b[0;34m,\u001b[0m\u001b[0my\u001b[0m\u001b[0;34m=\u001b[0m\u001b[0mty\u001b[0m\u001b[0;34m,\u001b[0m \u001b[0mrad\u001b[0m\u001b[0;34m=\u001b[0m\u001b[0;36m400\u001b[0m\u001b[0;34m)\u001b[0m\u001b[0;34m\u001b[0m\u001b[0;34m\u001b[0m\u001b[0m\n\u001b[0m\u001b[1;32m      5\u001b[0m \u001b[0mprint\u001b[0m\u001b[0;34m(\u001b[0m\u001b[0mclouds_in_range\u001b[0m\u001b[0;34m)\u001b[0m\u001b[0;34m\u001b[0m\u001b[0;34m\u001b[0m\u001b[0m\n",
      "\u001b[0;31mValueError\u001b[0m: could not broadcast input array from shape (145,145) into shape (145)"
     ]
    }
   ],
   "source": [
    "ii=0\n",
    "tx = x[ii*n_it:(ii+1)*n_it]\n",
    "ty = y[ii*n_it:(ii+1)*n_it]\n",
    "clouds_in_range[ii*n_it:(ii+1)*n_it] = rad_density(x=tx,y=ty, rad=400)\n",
    "print(clouds_in_range)"
   ]
  },
  {
   "cell_type": "code",
   "execution_count": 9,
   "metadata": {},
   "outputs": [
    {
     "name": "stdout",
     "output_type": "stream",
     "text": [
      "[21025. 21025. 21025. ...    nan    nan    nan]\n",
      "[21025. 21025. 21025. ...    nan    nan    nan]\n",
      "[21025. 21025. 21025. ...    nan    nan    nan]\n",
      "[21025. 21025. 21025. ...    nan    nan    nan]\n",
      "[21025. 21025. 21025. ...    nan    nan    nan]\n",
      "[21025. 21025. 21025. ...    nan    nan    nan]\n",
      "[21025. 21025. 21025. ...    nan    nan    nan]\n"
     ]
    },
    {
     "ename": "KeyboardInterrupt",
     "evalue": "",
     "output_type": "error",
     "traceback": [
      "\u001b[0;31m---------------------------------------------------------------------------\u001b[0m",
      "\u001b[0;31mKeyboardInterrupt\u001b[0m                         Traceback (most recent call last)",
      "\u001b[0;32m<ipython-input-9-a0bd49f4c5db>\u001b[0m in \u001b[0;36m<module>\u001b[0;34m\u001b[0m\n\u001b[1;32m     25\u001b[0m                     \u001b[0mtx\u001b[0m \u001b[0;34m=\u001b[0m \u001b[0mx\u001b[0m\u001b[0;34m[\u001b[0m\u001b[0mii\u001b[0m\u001b[0;34m*\u001b[0m\u001b[0mn_it\u001b[0m\u001b[0;34m:\u001b[0m\u001b[0;34m(\u001b[0m\u001b[0mii\u001b[0m\u001b[0;34m+\u001b[0m\u001b[0;36m1\u001b[0m\u001b[0;34m)\u001b[0m\u001b[0;34m*\u001b[0m\u001b[0mn_it\u001b[0m\u001b[0;34m]\u001b[0m\u001b[0;34m\u001b[0m\u001b[0;34m\u001b[0m\u001b[0m\n\u001b[1;32m     26\u001b[0m                     \u001b[0mty\u001b[0m \u001b[0;34m=\u001b[0m \u001b[0my\u001b[0m\u001b[0;34m[\u001b[0m\u001b[0mii\u001b[0m\u001b[0;34m*\u001b[0m\u001b[0mn_it\u001b[0m\u001b[0;34m:\u001b[0m\u001b[0;34m(\u001b[0m\u001b[0mii\u001b[0m\u001b[0;34m+\u001b[0m\u001b[0;36m1\u001b[0m\u001b[0;34m)\u001b[0m\u001b[0;34m*\u001b[0m\u001b[0mn_it\u001b[0m\u001b[0;34m]\u001b[0m\u001b[0;34m\u001b[0m\u001b[0;34m\u001b[0m\u001b[0m\n\u001b[0;32m---> 27\u001b[0;31m                     \u001b[0mclouds_in_range\u001b[0m\u001b[0;34m[\u001b[0m\u001b[0mii\u001b[0m\u001b[0;34m*\u001b[0m\u001b[0mn_it\u001b[0m\u001b[0;34m:\u001b[0m\u001b[0;34m(\u001b[0m\u001b[0mii\u001b[0m\u001b[0;34m+\u001b[0m\u001b[0;36m1\u001b[0m\u001b[0;34m)\u001b[0m\u001b[0;34m*\u001b[0m\u001b[0mn_it\u001b[0m\u001b[0;34m]\u001b[0m \u001b[0;34m=\u001b[0m \u001b[0mrad_density\u001b[0m\u001b[0;34m(\u001b[0m\u001b[0mx\u001b[0m\u001b[0;34m=\u001b[0m\u001b[0mtx\u001b[0m\u001b[0;34m,\u001b[0m\u001b[0my\u001b[0m\u001b[0;34m=\u001b[0m\u001b[0mty\u001b[0m\u001b[0;34m,\u001b[0m \u001b[0mrad\u001b[0m\u001b[0;34m=\u001b[0m\u001b[0;36m400\u001b[0m\u001b[0;34m)\u001b[0m\u001b[0;34m\u001b[0m\u001b[0;34m\u001b[0m\u001b[0m\n\u001b[0m\u001b[1;32m     28\u001b[0m                 \u001b[0mprint\u001b[0m\u001b[0;34m(\u001b[0m\u001b[0mclouds_in_range\u001b[0m\u001b[0;34m)\u001b[0m\u001b[0;34m\u001b[0m\u001b[0;34m\u001b[0m\u001b[0m\n",
      "\u001b[0;32m<ipython-input-5-769270f2ed4f>\u001b[0m in \u001b[0;36mrad_density\u001b[0;34m(x, y, rad)\u001b[0m\n\u001b[1;32m      5\u001b[0m     \u001b[0mx2\u001b[0m \u001b[0;34m=\u001b[0m \u001b[0mnp\u001b[0m\u001b[0;34m.\u001b[0m\u001b[0mtranspose\u001b[0m\u001b[0;34m(\u001b[0m\u001b[0mx1\u001b[0m\u001b[0;34m)\u001b[0m \u001b[0;31m#constant x along rows\u001b[0m\u001b[0;34m\u001b[0m\u001b[0;34m\u001b[0m\u001b[0m\n\u001b[1;32m      6\u001b[0m     \u001b[0my2\u001b[0m \u001b[0;34m=\u001b[0m \u001b[0mnp\u001b[0m\u001b[0;34m.\u001b[0m\u001b[0mtranspose\u001b[0m\u001b[0;34m(\u001b[0m\u001b[0my1\u001b[0m\u001b[0;34m)\u001b[0m \u001b[0;31m#constant y along rows\u001b[0m\u001b[0;34m\u001b[0m\u001b[0;34m\u001b[0m\u001b[0m\n\u001b[0;32m----> 7\u001b[0;31m     \u001b[0mdist\u001b[0m \u001b[0;34m=\u001b[0m \u001b[0mnp\u001b[0m\u001b[0;34m.\u001b[0m\u001b[0msqrt\u001b[0m\u001b[0;34m(\u001b[0m\u001b[0;34m(\u001b[0m\u001b[0mx1\u001b[0m\u001b[0;34m-\u001b[0m\u001b[0mx2\u001b[0m\u001b[0;34m)\u001b[0m\u001b[0;34m**\u001b[0m\u001b[0;36m2\u001b[0m \u001b[0;34m+\u001b[0m \u001b[0;34m(\u001b[0m\u001b[0my1\u001b[0m\u001b[0;34m-\u001b[0m\u001b[0my2\u001b[0m\u001b[0;34m)\u001b[0m\u001b[0;34m**\u001b[0m\u001b[0;36m2\u001b[0m\u001b[0;34m)\u001b[0m\u001b[0;34m\u001b[0m\u001b[0;34m\u001b[0m\u001b[0m\n\u001b[0m\u001b[1;32m      8\u001b[0m \u001b[0;34m\u001b[0m\u001b[0m\n\u001b[1;32m      9\u001b[0m     \u001b[0mnp\u001b[0m\u001b[0;34m.\u001b[0m\u001b[0mndarray\u001b[0m\u001b[0;34m.\u001b[0m\u001b[0msort\u001b[0m\u001b[0;34m(\u001b[0m\u001b[0mdist\u001b[0m\u001b[0;34m,\u001b[0m \u001b[0maxis\u001b[0m\u001b[0;34m=\u001b[0m\u001b[0;36m1\u001b[0m\u001b[0;34m)\u001b[0m\u001b[0;34m\u001b[0m\u001b[0;34m\u001b[0m\u001b[0m\n",
      "\u001b[0;31mKeyboardInterrupt\u001b[0m: "
     ]
    }
   ],
   "source": [
    "#EXP DISK\n",
    "source = sources[32]\n",
    "tab_loc = '/home/machado.35/projects/intro/phangs_sample_table_v1p6.fits'\n",
    "t = Table.read(tab_loc)\n",
    "for k in range(len(res)):\n",
    "    k=3\n",
    "    for i in range(len(source)):\n",
    "        i=32\n",
    "        image = '/home/machado.35/projects/masks/exp/'+sources[i]+'_'+str(res[k])+'pc_exp_mask.fits'\n",
    "        cat_fp = '/home/machado.35/projects/intro/sources/'+sources[i]+'/'+sources[i]+'_'+str(res[k])+'pc_cloud_stats.csv'\n",
    "        if os.path.isfile(image):\n",
    "            if os.path.isfile(cat_fp):\n",
    "                row = int(np.where(t['name'] == sources[i])[0])\n",
    "                dist = t['dist'][row]*1e6 #from Mpc to pc\n",
    "                fn = '/data/rubin/machado.35/phangs/rand_results/1e6/'+sources[i]+'_exp'+'_'+str(res[k])+'pc.csv'\n",
    "                df = pd.read_csv(fn)\n",
    "                cat = pd.read_csv(cat_fp)\n",
    "                x = df['rRA']\n",
    "                y = df['rDEC']\n",
    "                N_tot = len(x)\n",
    "                n_it = len(cat)\n",
    "                n_loops = int(np.floor(N_tot / n_it))\n",
    "                clouds_in_range = np.zeros_like(x)*np.nan\n",
    "                for ii in np.arange(n_loops):\n",
    "                    tx = x[ii*n_it:(ii+1)*n_it]\n",
    "                    ty = y[ii*n_it:(ii+1)*n_it]\n",
    "                    clouds_in_range[ii*n_it:(ii+1)*n_it] = rad_density(x=tx,y=ty, rad=400)\n",
    "                print(clouds_in_range)"
   ]
  },
  {
   "cell_type": "code",
   "execution_count": 15,
   "metadata": {},
   "outputs": [
    {
     "data": {
      "text/plain": [
       "21025.0"
      ]
     },
     "execution_count": 15,
     "metadata": {},
     "output_type": "execute_result"
    }
   ],
   "source": [
    "np.nanmax(clouds_in_range)"
   ]
  },
  {
   "cell_type": "code",
   "execution_count": 27,
   "metadata": {},
   "outputs": [
    {
     "data": {
      "text/plain": [
       "7059999.942779541"
      ]
     },
     "execution_count": 27,
     "metadata": {},
     "output_type": "execute_result"
    }
   ],
   "source": [
    "dist"
   ]
  },
  {
   "cell_type": "code",
   "execution_count": null,
   "metadata": {},
   "outputs": [],
   "source": [
    "tab_loc = '/home/machado.35/projects/intro/phangs_sample_table_v1p6.fits'\n",
    "t = Table.read(tab_loc)\n",
    "row = int(np.where(t['name'] == 'ngc3621')[0])\n",
    "t['dist'][row]"
   ]
  },
  {
   "cell_type": "code",
   "execution_count": null,
   "metadata": {},
   "outputs": [],
   "source": [
    "ra1 = df['rRA'][15]\n",
    "dec1 = df['rDEC'][15]\n",
    "ra2 = df['rRA'][16]\n",
    "dec2 = df['rDEC'][16]\n",
    "np.sqrt(np.square(ra1 - ra2) + np.square(dec1 - dec2))*t['dist'][row]*1e3"
   ]
  },
  {
   "cell_type": "code",
   "execution_count": null,
   "metadata": {},
   "outputs": [],
   "source": [
    "#2D COVERAGE\n",
    "tab_loc = '/home/machado.35/projects/intro/phangs_sample_table_v1p6.fits'\n",
    "t = Table.read(tab_loc)\n",
    "for k in range(len(res)):\n",
    "    for i in range(len(sources)):\n",
    "        image = mask_fp+sources[i]+'_12m+7m+tp_co21_'+str(res[k])+'pc_coverage2d.fits'\n",
    "        cat_fp = '/home/machado.35/projects/intro/sources/'+sources[i]+'/'+sources[i]+'_'+str(res[k])+'pc_cloud_stats.csv'\n",
    "        if os.path.isfile(image):\n",
    "            if os.path.isfile(cat_fp):\n",
    "                row = int(np.where(t['name'] == sources[i])[0])\n",
    "                dist = t['dist'][row]*1e6 #from Mpc to pc\n",
    "                fn = '/data/rubin/machado.35/phangs/rand_results/1e6/'+sources[i]+'_2dcov'+'_'+str(res[k])+'pc.csv'\n",
    "                df = pd.read_csv(fn)\n",
    "                cat = pd.read_csv(cat_fp)\n",
    "                x = df['rRA']\n",
    "                y = df['rDEC']\n",
    "                N_tot = len(x)\n",
    "                n_it = len(cat)\n",
    "                n_loops = int(np.floor(N_tot / n_it))\n",
    "                mindist = np.zeros_like(x)*np.nan\n",
    "                for ii in np.arange(n_loops):\n",
    "                    tx = x[ii*n_it:(ii+1)*n_it]\n",
    "                    ty = y[ii*n_it:(ii+1)*n_it]\n",
    "                    mindist[ii*n_it:(ii+1)*n_it] = pair_dist_calc(x=tx,y=ty)\n",
    "                df['nn_dist'] = np.deg2rad(mindist) * dist\n",
    "                df.to_csv(fn)"
   ]
  },
  {
   "cell_type": "code",
   "execution_count": null,
   "metadata": {},
   "outputs": [],
   "source": [
    "#EXP DISK\n",
    "radius = 400 #COUNTING CLOUDS WITHIN RADIUS\n",
    "tab_loc = '/home/machado.35/projects/intro/phangs_sample_table_v1p6.fits'\n",
    "t = Table.read(tab_loc)\n",
    "for k in range(len(res)):\n",
    "    for i in range(len(sources)):\n",
    "        image = '/home/machado.35/projects/masks/exp/'+sources[i]+'_'+str(res[k])+'pc_exp_mask.fits'\n",
    "        cat_fp = '/home/machado.35/projects/intro/sources/'+sources[i]+'/'+sources[i]+'_'+str(res[k])+'pc_cloud_stats.csv'\n",
    "        fn = '/data/rubin/machado.35/phangs/rand_results/1e6/'+sources[i]+'_exp'+'_'+str(res[k])+'pc.csv'\n",
    "        if os.path.isfile(image):\n",
    "            if os.path.isfile(cat_fp):\n",
    "                if os.path.isfile(fn):\n",
    "                    row = int(np.where(t['name'] == sources[i])[0])\n",
    "                    dist = t['dist'][row]*1e6 #from Mpc to pc\n",
    "                    df = pd.read_csv(fn)\n",
    "                    cat = pd.read_csv(cat_fp)\n",
    "                    x = df['rRA']\n",
    "                    y = df['rDEC']\n",
    "                    N_tot = len(x)\n",
    "                    n_it = len(cat)\n",
    "                    n_loops = int(np.floor(N_tot / n_it))\n",
    "                    mindist = np.zeros_like(x)*np.nan\n",
    "                    radial_density = np.zeros_like(x)*np.nan\n",
    "                    for ii in np.arange(n_loops):\n",
    "                        tx = x[ii*n_it:(ii+1)*n_it]\n",
    "                        ty = y[ii*n_it:(ii+1)*n_it]\n",
    "                        mindist[ii*n_it:(ii+1)*n_it] = pair_dist_calc(x=tx,y=ty)\n",
    "                        radial_density[ii*n_it:(ii+1)*n_it] = rad_density(x=tx,y=ty, rad=radius, galdist=dist)\n",
    "                    df['nn_dist'] = np.deg2rad(mindist) * dist\n",
    "                    df['clouds_r'+str(radius)+'pc'] = radial_density\n",
    "                    df.to_csv(fn)"
   ]
  },
  {
   "cell_type": "code",
   "execution_count": null,
   "metadata": {},
   "outputs": [],
   "source": [
    "df = pd.read_csv('ngc3621_exp_testrun.csv')\n",
    "x = df['rX']\n",
    "y = df['rY']\n",
    "N_tot = len(x)\n",
    "n_it = 150\n",
    "n_loops = int(np.floor(N_tot / n_it))\n",
    "counter = 0\n",
    "print(str(N_tot)+' total points, with '+str(n_it)+' iterations. '+str(n_loops)+' to complete')\n",
    "mindist = np.zeros_like(x)*np.nan\n",
    "for ii in np.arange(n_loops):\n",
    "    tx = x[ii*n_it:(ii+1)*n_it]\n",
    "    ty = y[ii*n_it:(ii+1)*n_it]\n",
    "    mindist[ii*n_it:(ii+1)*n_it] = pair_dist_calc(x=tx,y=ty)"
   ]
  },
  {
   "cell_type": "code",
   "execution_count": 108,
   "metadata": {},
   "outputs": [
    {
     "data": {
      "text/plain": [
       "'ngc3621'"
      ]
     },
     "execution_count": 108,
     "metadata": {},
     "output_type": "execute_result"
    }
   ],
   "source": [
    "sources[32]"
   ]
  },
  {
   "cell_type": "code",
   "execution_count": 114,
   "metadata": {},
   "outputs": [],
   "source": [
    "#EXP DISK\n",
    "radius = 400 #COUNTING CLOUDS WITHIN RADIUS\n",
    "tab_loc = '/home/machado.35/projects/intro/phangs_sample_table_v1p6.fits'\n",
    "t = Table.read(tab_loc)\n",
    "source = sources[32] #####\n",
    "for k in range(len(res)): \n",
    "    k=3 #####\n",
    "    for i in range(len(source)): ####\n",
    "        image = '/home/machado.35/projects/masks/exp/'+sources[i]+'_'+str(res[k])+'pc_exp_mask.fits'\n",
    "        cat_fp = '/home/machado.35/projects/intro/sources/'+sources[i]+'/'+sources[i]+'_'+str(res[k])+'pc_cloud_stats.csv'\n",
    "        fn = '/data/rubin/machado.35/phangs/rand_results/1e6/'+sources[i]+'_exp'+'_'+str(res[k])+'pc.csv'\n",
    "        if os.path.isfile(image):\n",
    "            if os.path.isfile(cat_fp):\n",
    "                if os.path.isfile(fn):\n",
    "                    row = int(np.where(t['name'] == sources[i])[0])\n",
    "                    dist = t['dist'][row]*1e6 #from Mpc to pc\n",
    "                    df = pd.read_csv(fn)\n",
    "                    cat = pd.read_csv(cat_fp)\n",
    "                    x = df['rRA']\n",
    "                    y = df['rDEC']\n",
    "                    N_tot = len(x)\n",
    "                    n_it = len(cat)\n",
    "                    n_loops = int(np.floor(N_tot / n_it))\n",
    "                    mindist = np.zeros_like(x)*np.nan\n",
    "                    radial_density = np.zeros_like(x)*np.nan\n",
    "                    for ii in np.arange(n_loops):\n",
    "                        tx = x[ii*n_it:(ii+1)*n_it]\n",
    "                        ty = y[ii*n_it:(ii+1)*n_it]\n",
    "                        mindist[ii*n_it:(ii+1)*n_it] = pair_dist_calc(x=tx,y=ty)\n",
    "                        radial_density[ii*n_it:(ii+1)*n_it] = rad_density(x=tx,y=ty, rad=radius, galdist=dist)\n",
    "                    df['nn_dist'] = np.deg2rad(mindist) * dist\n",
    "                    df['clouds_r'+str(radius)+'pc'] = radial_density\n",
    "                    df.to_csv(fn)"
   ]
  },
  {
   "cell_type": "code",
   "execution_count": 116,
   "metadata": {},
   "outputs": [
    {
     "data": {
      "text/plain": [
       "0         2.0\n",
       "1         2.0\n",
       "2         3.0\n",
       "3         1.0\n",
       "4         3.0\n",
       "         ... \n",
       "762416    NaN\n",
       "762417    NaN\n",
       "762418    NaN\n",
       "762419    NaN\n",
       "762420    NaN\n",
       "Name: clouds_r400pc, Length: 762421, dtype: float64"
      ]
     },
     "execution_count": 116,
     "metadata": {},
     "output_type": "execute_result"
    }
   ],
   "source": [
    "df['clouds_r400pc']"
   ]
  },
  {
   "cell_type": "code",
   "execution_count": 117,
   "metadata": {},
   "outputs": [
    {
     "data": {
      "text/plain": [
       "762421"
      ]
     },
     "execution_count": 117,
     "metadata": {},
     "output_type": "execute_result"
    }
   ],
   "source": [
    "len(x)"
   ]
  },
  {
   "cell_type": "code",
   "execution_count": 29,
   "metadata": {},
   "outputs": [],
   "source": [
    "k = 3\n",
    "i = 32\n",
    "#REAL DATA TRIAL RUN\n",
    "radius = 400 #pc\n",
    "tab_loc = '/home/machado.35/projects/intro/phangs_sample_table_v1p6.fits'\n",
    "t = Table.read(tab_loc)\n",
    "real_cat = '/home/machado.35/projects/intro/sources/'+sources[i]+'/'+sources[i]+'_'+str(res[k])+'pc_cloud_stats.csv'\n",
    "cat = pd.read_csv(real_cat)\n",
    "row = int(np.where(t['name'] == sources[i])[0])\n",
    "dist = t['dist'][row]*1e6 #from Mpc to pc\n",
    "x = cat['corr_x']\n",
    "y = cat['y']\n",
    "neighbor_counts = rad_density(x=x, y=y, rad=radius, galdist=dist)\n",
    "copy_cat = cat\n",
    "copy_cat['clouds_r'+str(radius)+'pc'] = neighbor_counts\n",
    "#df.to_csv(fn)"
   ]
  },
  {
   "cell_type": "code",
   "execution_count": 38,
   "metadata": {},
   "outputs": [],
   "source": [
    "#REAL DATA FULL RUN\n",
    "radius = 400 #pc\n",
    "tab_loc = '/home/machado.35/projects/intro/phangs_sample_table_v1p6.fits'\n",
    "t = Table.read(tab_loc)\n",
    "for k in range(len(res)):\n",
    "    for i in range(len(sources)):\n",
    "        real_cat = '/home/machado.35/projects/intro/sources/'+sources[i]+'/'+sources[i]+'_'+str(res[k])+'pc_cloud_stats.csv'\n",
    "        if os.path.isfile(real_cat):\n",
    "            cat = pd.read_csv(real_cat)\n",
    "            row = int(np.where(t['name'] == sources[i])[0])\n",
    "            dist = t['dist'][row]*1e6 #from Mpc to pc\n",
    "            x = cat['corr_x']\n",
    "            y = cat['y']\n",
    "            neighbor_counts = rad_density(x=x, y=y, rad=radius, galdist=dist)\n",
    "            cat['clouds_r'+str(radius)+'pc'] = neighbor_counts\n",
    "            cat.to_csv(real_cat)"
   ]
  },
  {
   "cell_type": "code",
   "execution_count": 10,
   "metadata": {},
   "outputs": [
    {
     "data": {
      "text/plain": [
       "'ngc1672'"
      ]
     },
     "execution_count": 10,
     "metadata": {},
     "output_type": "execute_result"
    }
   ],
   "source": [
    "tab_loc = '/home/machado.35/projects/intro/phangs_sample_table_v1p6.fits'\n",
    "t = Table.read(tab_loc)\n",
    "t['name'][33]"
   ]
  },
  {
   "cell_type": "code",
   "execution_count": 20,
   "metadata": {},
   "outputs": [],
   "source": [
    "row = int(np.where(t['name'] == sources[i])[0])\n",
    "dist = t['dist'][row]*1e6 #from Mpc to pc"
   ]
  },
  {
   "cell_type": "code",
   "execution_count": null,
   "metadata": {},
   "outputs": [],
   "source": [
    "mask_fp"
   ]
  },
  {
   "cell_type": "code",
   "execution_count": 14,
   "metadata": {},
   "outputs": [],
   "source": [
    "k = 3\n",
    "i = 1"
   ]
  },
  {
   "cell_type": "code",
   "execution_count": 15,
   "metadata": {},
   "outputs": [],
   "source": [
    "real_cat = '/home/machado.35/projects/intro/sources/'+sources[i]+'/'+sources[i]+'_'+str(res[k])+'pc_cloud_stats.csv'"
   ]
  },
  {
   "cell_type": "code",
   "execution_count": 21,
   "metadata": {},
   "outputs": [],
   "source": [
    "cat = pd.read_csv(real_cat)\n",
    "x = cat['corr_x']\n",
    "y = cat['y']\n",
    "galdist = dist"
   ]
  }
 ],
 "metadata": {
  "kernelspec": {
   "display_name": "Python 3",
   "language": "python",
   "name": "python3"
  },
  "language_info": {
   "codemirror_mode": {
    "name": "ipython",
    "version": 3
   },
   "file_extension": ".py",
   "mimetype": "text/x-python",
   "name": "python",
   "nbconvert_exporter": "python",
   "pygments_lexer": "ipython3",
   "version": "3.7.2"
  }
 },
 "nbformat": 4,
 "nbformat_minor": 4
}
