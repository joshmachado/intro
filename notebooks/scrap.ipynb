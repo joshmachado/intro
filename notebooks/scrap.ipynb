{
 "cells": [
  {
   "cell_type": "code",
   "execution_count": 64,
   "id": "endless-apollo",
   "metadata": {},
   "outputs": [],
   "source": [
    "from os import listdir\n",
    "import pandas as pd\n",
    "import numpy as np\n",
    "from astropy.io import fits\n",
    "import astropy.io.fits as pyfits\n",
    "from astropy.wcs import WCS\n",
    "import matplotlib.pyplot as plt\n",
    "from astropy.table import Table\n",
    "import pandas as pd\n",
    "import math\n",
    "import random as r\n",
    "import scipy.stats\n",
    "import os.path\n",
    "import sys\n",
    "sys.path.append('/home/machado.35/projects/modules')\n",
    "from deprojectGalaxy import deproject\n",
    "import time\n",
    "import spacing_calc\n",
    "import astropy.units as u"
   ]
  },
  {
   "cell_type": "code",
   "execution_count": 47,
   "id": "expensive-there",
   "metadata": {},
   "outputs": [
    {
     "data": {
      "text/plain": [
       "['eso097-013',\n",
       " 'ic1954',\n",
       " 'ic5273',\n",
       " 'ngc0253',\n",
       " 'ngc0628',\n",
       " 'ngc0685',\n",
       " 'ngc1087',\n",
       " 'ngc1097',\n",
       " 'ngc1300',\n",
       " 'ngc1317',\n",
       " 'ngc1365',\n",
       " 'ngc1385',\n",
       " 'ngc1433',\n",
       " 'ngc1511',\n",
       " 'ngc1512',\n",
       " 'ngc1546',\n",
       " 'ngc1559',\n",
       " 'ngc1566',\n",
       " 'ngc1637',\n",
       " 'ngc1792',\n",
       " 'ngc1809',\n",
       " 'ngc2090',\n",
       " 'ngc2283',\n",
       " 'ngc2566',\n",
       " 'ngc2775',\n",
       " 'ngc2835',\n",
       " 'ngc2903',\n",
       " 'ngc2997',\n",
       " 'ngc3059',\n",
       " 'ngc3137',\n",
       " 'ngc3351',\n",
       " 'ngc3507',\n",
       " 'ngc3511',\n",
       " 'ngc3521',\n",
       " 'ngc3596',\n",
       " 'ngc3599',\n",
       " 'ngc3621',\n",
       " 'ngc3626',\n",
       " 'ngc3627',\n",
       " 'ngc4207',\n",
       " 'ngc4254',\n",
       " 'ngc4293',\n",
       " 'ngc4298',\n",
       " 'ngc4303',\n",
       " 'ngc4321',\n",
       " 'ngc4424',\n",
       " 'ngc4457',\n",
       " 'ngc4459',\n",
       " 'ngc4476',\n",
       " 'ngc4477',\n",
       " 'ngc4496a',\n",
       " 'ngc4535',\n",
       " 'ngc4536',\n",
       " 'ngc4540',\n",
       " 'ngc4548',\n",
       " 'ngc4569',\n",
       " 'ngc4571',\n",
       " 'ngc4596',\n",
       " 'ngc4689',\n",
       " 'ngc4694',\n",
       " 'ngc4731',\n",
       " 'ngc4781',\n",
       " 'ngc4826',\n",
       " 'ngc4941',\n",
       " 'ngc4945',\n",
       " 'ngc4951',\n",
       " 'ngc5042',\n",
       " 'ngc5068',\n",
       " 'ngc5128',\n",
       " 'ngc5134',\n",
       " 'ngc5236',\n",
       " 'ngc5248',\n",
       " 'ngc5530',\n",
       " 'ngc5643',\n",
       " 'ngc6300',\n",
       " 'ngc6744',\n",
       " 'ngc7496',\n",
       " 'ngc7743',\n",
       " 'ngc7793']"
      ]
     },
     "execution_count": 47,
     "metadata": {},
     "output_type": "execute_result"
    }
   ],
   "source": [
    "low_sens"
   ]
  },
  {
   "cell_type": "code",
   "execution_count": 43,
   "id": "floppy-thickness",
   "metadata": {},
   "outputs": [
    {
     "data": {
      "text/plain": [
       "['ngc0247', 'ngc3489', 'ngc0300', 'ngc7456']"
      ]
     },
     "execution_count": 43,
     "metadata": {},
     "output_type": "execute_result"
    }
   ],
   "source": [
    "list(set(high_sens)-set(low_sens))"
   ]
  },
  {
   "cell_type": "code",
   "execution_count": 37,
   "id": "champion-index",
   "metadata": {},
   "outputs": [],
   "source": [
    "high_sens = listdir('/data/rubin/machado.35/phangs/catalogs/cprops_v4/homogenized_150pc_high_sens')\n",
    "low_sens = listdir('/data/rubin/machado.35/phangs/catalogs/cprops_v4/homogenized_150pc_low_sens')\n",
    "cov_masks = listdir('/home/machado.35/projects/masks/coverage/')\n",
    "exp_masks = listdir('/home/machado.35/projects/masks/exp/')"
   ]
  },
  {
   "cell_type": "code",
   "execution_count": 38,
   "id": "geographic-rubber",
   "metadata": {},
   "outputs": [],
   "source": [
    "for i in range(len(high_sens)):\n",
    "    index = high_sens[i].index('_')\n",
    "    high_sens[i] = high_sens[i][0:index]\n",
    "\n",
    "for i in range(len(low_sens)):\n",
    "    index = low_sens[i].index('_')\n",
    "    low_sens[i] = low_sens[i][0:index]\n",
    "\n",
    "for i in range(len(cov_masks)):\n",
    "    index = cov_masks[i].index('_')\n",
    "    cov_masks[i] = cov_masks[i][0:index]\n",
    "\n",
    "for i in range(len(exp_masks)):\n",
    "    index = exp_masks[i].index('_')\n",
    "    exp_masks[i] = exp_masks[i][0:index]"
   ]
  },
  {
   "cell_type": "code",
   "execution_count": 5,
   "id": "opening-twins",
   "metadata": {},
   "outputs": [],
   "source": [
    "sources = pd.read_csv('/home/machado.35/projects/intro/scripts/sources.csv')\n",
    "sources = list(sources['sources'])"
   ]
  },
  {
   "cell_type": "code",
   "execution_count": 40,
   "id": "hidden-tolerance",
   "metadata": {},
   "outputs": [
    {
     "data": {
      "text/plain": [
       "['ngc7743',\n",
       " 'ngc4459',\n",
       " 'ngc7456',\n",
       " 'ngc5236',\n",
       " 'ngc2775',\n",
       " 'ngc3059',\n",
       " 'ngc3239',\n",
       " 'ngc3599',\n",
       " 'ngc4477',\n",
       " 'ngc3489',\n",
       " 'ngc1809',\n",
       " 'ngc4596',\n",
       " 'ic5332',\n",
       " 'ngc4476']"
      ]
     },
     "execution_count": 40,
     "metadata": {},
     "output_type": "execute_result"
    }
   ],
   "source": [
    "list(set(cov_masks)-set(exp_masks))"
   ]
  },
  {
   "cell_type": "markdown",
   "id": "utility-settle",
   "metadata": {},
   "source": [
    "# SOURCES IN LOW SENSITIVITY CATALOG THAT ARE NEW"
   ]
  },
  {
   "cell_type": "code",
   "execution_count": 17,
   "id": "activated-defensive",
   "metadata": {},
   "outputs": [
    {
     "data": {
      "text/plain": [
       "['ngc7793',\n",
       " 'ngc7743',\n",
       " 'ngc4459',\n",
       " 'eso097-013',\n",
       " 'ngc5236',\n",
       " 'ngc2775',\n",
       " 'ngc5128',\n",
       " 'ngc3059',\n",
       " 'ngc4945',\n",
       " 'ngc3599',\n",
       " 'ngc1809',\n",
       " 'ngc4596',\n",
       " 'ngc4477',\n",
       " 'ngc4476']"
      ]
     },
     "execution_count": 17,
     "metadata": {},
     "output_type": "execute_result"
    }
   ],
   "source": [
    "list(set(low_sens)-set(sources))"
   ]
  },
  {
   "cell_type": "markdown",
   "id": "geographic-intermediate",
   "metadata": {},
   "source": [
    "# SOURCES IN HIGH SENSITIVITY CATALOG THAT ARE NOT IN ORIGINAL SET"
   ]
  },
  {
   "cell_type": "code",
   "execution_count": 19,
   "id": "greek-variety",
   "metadata": {},
   "outputs": [
    {
     "data": {
      "text/plain": [
       "['ngc7793',\n",
       " 'ngc7743',\n",
       " 'ngc4459',\n",
       " 'ngc7456',\n",
       " 'ngc5236',\n",
       " 'ngc5128',\n",
       " 'ngc0300',\n",
       " 'ngc4945',\n",
       " 'ngc3489',\n",
       " 'ngc4596',\n",
       " 'ngc0247',\n",
       " 'ngc4477',\n",
       " 'ngc4476']"
      ]
     },
     "execution_count": 19,
     "metadata": {},
     "output_type": "execute_result"
    }
   ],
   "source": [
    "list(set(high_sens)-set(sources))"
   ]
  },
  {
   "cell_type": "markdown",
   "id": "colored-permit",
   "metadata": {},
   "source": [
    "# SOURCES IN LOW SENS THAT ARE NOT IN HIGH SENS"
   ]
  },
  {
   "cell_type": "code",
   "execution_count": 20,
   "id": "differential-kruger",
   "metadata": {},
   "outputs": [
    {
     "data": {
      "text/plain": [
       "['ngc4689',\n",
       " 'eso097-013',\n",
       " 'ngc3059',\n",
       " 'ngc1566',\n",
       " 'ngc4540',\n",
       " 'ngc2283',\n",
       " 'ngc1365',\n",
       " 'ngc4424',\n",
       " 'ngc6300',\n",
       " 'ngc5530',\n",
       " 'ngc4321',\n",
       " 'ngc4207',\n",
       " 'ngc4571',\n",
       " 'ngc2775',\n",
       " 'ngc2090',\n",
       " 'ngc1809',\n",
       " 'ngc5248',\n",
       " 'ngc1559',\n",
       " 'ngc1317',\n",
       " 'ngc1300',\n",
       " 'ngc1512',\n",
       " 'ngc1433',\n",
       " 'ngc4496a',\n",
       " 'ngc3599',\n",
       " 'ngc2835',\n",
       " 'ngc1385',\n",
       " 'ngc4951',\n",
       " 'ngc5042',\n",
       " 'ngc2566',\n",
       " 'ngc3626',\n",
       " 'ngc4457',\n",
       " 'ngc5134',\n",
       " 'ngc4535',\n",
       " 'ngc4303',\n",
       " 'ngc4694',\n",
       " 'ngc4293',\n",
       " 'ngc1087',\n",
       " 'ngc6744',\n",
       " 'ngc3507',\n",
       " 'ngc3596']"
      ]
     },
     "execution_count": 20,
     "metadata": {},
     "output_type": "execute_result"
    }
   ],
   "source": [
    "list(set(low_sens)-set(high_sens))"
   ]
  },
  {
   "cell_type": "code",
   "execution_count": 21,
   "id": "clear-savings",
   "metadata": {},
   "outputs": [
    {
     "data": {
      "text/plain": [
       "79"
      ]
     },
     "execution_count": 21,
     "metadata": {},
     "output_type": "execute_result"
    }
   ],
   "source": [
    "len(low_sens)"
   ]
  },
  {
   "cell_type": "code",
   "execution_count": null,
   "id": "federal-highlight",
   "metadata": {},
   "outputs": [],
   "source": []
  },
  {
   "cell_type": "code",
   "execution_count": 22,
   "id": "elegant-liberty",
   "metadata": {},
   "outputs": [
    {
     "name": "stdout",
     "output_type": "stream",
     "text": [
      "hi\n"
     ]
    }
   ],
   "source": [
    "#REAL TEST\n",
    "radii = [100,200,400,600,800,1000,1500]\n",
    "for k in range(len(res)):\n",
    "    for i in range(len(sources)):\n",
    "        image = '/home/machado.35/projects/masks/exp/'+sources[i]+'_'+str(res[k])+'pc_exp_mask.fits'\n",
    "        cat_fp = '/home/machado.35/projects/intro/sources/'+sources[i]+'/'+sources[i]+'_'+str(res[k])+'pc_cloud_stats.csv'\n",
    "        fn = output_path+sources[i]+'_exp'+'_'+str(res[k])+'pc.csv'\n",
    "        if os.path.isfile(image):\n",
    "            if os.path.isfile(cat_fp):\n",
    "                if os.path.isfile(fn):\n",
    "                    row = int(np.where(t['name'] == sources[i])[0])\n",
    "                    dist = t['dist'][row]*1e6 #from Mpc to pc\n",
    "                    df = pd.read_csv(fn)\n",
    "                    cat = pd.read_csv(cat_fp)\n",
    "                    x = df['rRA']\n",
    "                    y = df['rDEC']\n",
    "                    N_tot = len(x)\n",
    "                    n_it = len(cat)\n",
    "                    n_loops = int(np.floor(N_tot / n_it))\n",
    "                    mindist = np.zeros_like(x)*np.nan\n",
    "                    mindist3 = np.zeros_like(x)*np.nan\n",
    "                    mindist5 = np.zeros_like(x)*np.nan\n",
    "                    radial_density_100 = np.zeros_like(x)*np.nan\n",
    "                    radial_density_200 = np.zeros_like(x)*np.nan\n",
    "                    radial_density_400 = np.zeros_like(x)*np.nan\n",
    "                    radial_density_600 = np.zeros_like(x)*np.nan\n",
    "                    radial_density_800 = np.zeros_like(x)*np.nan\n",
    "                    radial_density_1000 = np.zeros_like(x)*np.nan\n",
    "                    radial_density_1500 = np.zeros_like(x)*np.nan\n",
    "                    for ii in np.arange(n_loops):\n",
    "                        tx = x[ii*n_it:(ii+1)*n_it]\n",
    "                        ty = y[ii*n_it:(ii+1)*n_it]\n",
    "                        mindist[ii*n_it:(ii+1)*n_it] = spacing_calc.pair_dist_calc(x=tx,y=ty, neighbor_num=1) #1st nearest\n",
    "                        mindist3[ii*n_it:(ii+1)*n_it] = spacing_calc.pair_dist_calc(x=tx,y=ty, neighbor_num=3) #3rd nearest\n",
    "                        mindist5[ii*n_it:(ii+1)*n_it] = spacing_calc.pair_dist_calc(x=tx,y=ty, neighbor_num=5) #5th nearest\n",
    "                        radial_density_100[ii*n_it:(ii+1)*n_it] = spacing_calc.rad_density(x=tx,y=ty, rad=radii[0], galdist=dist)\n",
    "                        radial_density_200[ii*n_it:(ii+1)*n_it] = spacing_calc.rad_density(x=tx,y=ty, rad=radii[1], galdist=dist)\n",
    "                        radial_density_400[ii*n_it:(ii+1)*n_it] = spacing_calc.rad_density(x=tx,y=ty, rad=radii[2], galdist=dist)\n",
    "                        radial_density_600[ii*n_it:(ii+1)*n_it] = spacing_calc.rad_density(x=tx,y=ty, rad=radii[3], galdist=dist)\n",
    "                        radial_density_800[ii*n_it:(ii+1)*n_it] = spacing_calc.rad_density(x=tx,y=ty, rad=radii[4], galdist=dist)\n",
    "                        radial_density_1000[ii*n_it:(ii+1)*n_it] = spacing_calc.rad_density(x=tx,y=ty, rad=radii[5], galdist=dist)\n",
    "                        radial_density_1500[ii*n_it:(ii+1)*n_it] = spacing_calc.rad_density(x=tx,y=ty, rad=radii[6], galdist=dist)\n",
    "                    df['nn_dist'] = np.deg2rad(mindist) * dist\n",
    "                    df['nn3_dist'] = np.deg2rad(mindist3) * dist\n",
    "                    df['nn5_dist'] = np.deg2rad(mindist5) * dist\n",
    "                    df['clouds_r'+str(radii[0])+'pc'] = radial_density_100\n",
    "                    df['clouds_r'+str(radii[1])+'pc'] = radial_density_200\n",
    "                    df['clouds_r'+str(radii[2])+'pc'] = radial_density_400\n",
    "                    df['clouds_r'+str(radii[3])+'pc'] = radial_density_600\n",
    "                    df['clouds_r'+str(radii[4])+'pc'] = radial_density_800\n",
    "                    df['clouds_r'+str(radii[5])+'pc'] = radial_density_1000\n",
    "                    df['clouds_r'+str(radii[6])+'pc'] = radial_density_1500\n",
    "                    df.to_csv(fn)"
   ]
  },
  {
   "cell_type": "code",
   "execution_count": 65,
   "id": "verbal-modeling",
   "metadata": {},
   "outputs": [],
   "source": [
    "fn = '/data/rubin/machado.35/phangs/catalogs/cprops_v4/homogenized_150pc_high_sens/ngc3621_12m+7m+tp_co21_150pc_46mK_props.fits'\n",
    "tab = Table.read(fn)\n",
    "x = tab['XCTR_DEG']*u.deg\n",
    "y = tab['YCTR_DEG']*u.deg\n",
    "\n",
    "tab_loc = '/home/machado.35/projects/intro/phangs_sample_table_v1p6.fits'\n",
    "t = Table.read(tab_loc)\n",
    "row = int(np.where(t['name'] == 'ngc3621')[0])\n",
    "galRA=t[row]['orient_ra']\n",
    "galDEC=t[row]['orient_dec']\n",
    "pa=t[row]['orient_posang']\n",
    "incl=t[row]['orient_incl']\n",
    "galDist=t[row]['dist']\n",
    "\n",
    "center_coord = [galRA,galDEC]"
   ]
  },
  {
   "cell_type": "code",
   "execution_count": 69,
   "id": "wanted-impact",
   "metadata": {},
   "outputs": [
    {
     "data": {
      "text/plain": [
       "array([  28.05785886,  133.94333419,    4.6631663 ,   -3.72099101,\n",
       "         -6.65650174,  -17.53905183,   21.7493016 ,  -47.94809967,\n",
       "         47.82127564,  -61.41427527,   57.32750098,   52.39980823,\n",
       "         50.84320725,   71.78882691,   39.97023482,   46.48213439,\n",
       "         71.20064587,   61.42913093,   65.87274579,   64.85585058,\n",
       "         70.32347537,   82.20326588,   87.24106447,   76.72650572,\n",
       "        -85.80132101,   86.20604521,   93.08063895,   95.06911718,\n",
       "         96.59812536,   96.03529732,  100.95986594, -141.35932165,\n",
       "       -108.26166615,   60.23834725,  -55.7631657 ,  -74.03986002,\n",
       "         11.64127951,  -44.21921208,  -51.52990826,  -59.0157823 ,\n",
       "       -119.21523661,  -65.99319418,   38.60668748,  -63.74463046,\n",
       "        -69.96147938, -107.31298722,  116.48333148,  178.18947766,\n",
       "       -111.97972382, -127.26052852, -125.00992046,  -31.50023176,\n",
       "       -147.56892273, -132.11834526,  -94.37837649,  -59.77952811,\n",
       "       -122.6659016 , -105.89803662,  -67.15316551,   39.18182016,\n",
       "        162.63875789,  157.61590803, -137.13402593,  141.16188872,\n",
       "       -132.11916606, -125.04135683,  -96.22453414, -106.92981397,\n",
       "        -92.61686886,  -99.17261697,  -90.76347328, -104.46439422,\n",
       "       -107.04407154,   -4.86266952, -106.99256672,  107.383363  ,\n",
       "        -59.52075773,  -84.31478705, -105.58304179,  -77.96777341,\n",
       "        -83.70565824,  -19.77193856,  -86.94879992,  133.86473472,\n",
       "        -19.85551742,  -32.52935719,  115.55737149, -115.20971976,\n",
       "       -162.35226524,  152.57944339, -146.02309161, -168.08051098,\n",
       "        -39.62954123,  141.22406172,    1.97890855,  -66.36693552,\n",
       "        -63.72288362,  -78.62997789,   20.08325566,  -38.83620987,\n",
       "         51.99353585,   95.10391464,  132.67562992,  125.16327417,\n",
       "        -94.58486214,  175.78162353,  -23.22327068,  -72.18589079,\n",
       "        -77.02828576,   72.68800116,   70.04589143,  103.19215951,\n",
       "       -100.36064615, -165.99972783,  -13.78242102,  -21.57549278,\n",
       "        -40.45798021,  -49.81011911,   14.29983599,   44.06170614,\n",
       "         70.95300821,   81.56180305,  -92.49913603,  -96.97866679,\n",
       "       -129.00175893,   -1.49885116,  -24.51796944, -112.31289599,\n",
       "         -5.38470155,    2.78134525,   -9.88914108,   -5.56809123,\n",
       "         17.20144049,   27.32557576,   17.29217387,   25.99919674,\n",
       "          6.94447205,   19.10220231,   28.17595698,   27.14142536,\n",
       "       -118.50560671, -168.27655709, -158.2038096 , -153.1314304 ,\n",
       "        -67.91990807,  -76.07402161,  -45.73269997, -107.89095579,\n",
       "        -89.55653896, -103.74217248,  132.36912018,  146.05229434,\n",
       "        130.49872333, -111.2719958 , -120.45308304, -104.56800934,\n",
       "        -97.15135827,  -95.63744715,  159.87887737, -170.26822713,\n",
       "        157.66710007, -128.62639259, -122.28574455, -139.9388703 ,\n",
       "        172.76588781,  178.15041698,  179.05510064, -153.67010855,\n",
       "       -158.68075153,  109.61384939,  114.83961326,  105.43594726,\n",
       "        111.53571987,  114.15852041,  108.92276432,  112.85804644,\n",
       "         96.86199335,  100.4090416 ,  105.4862177 , -110.98855452,\n",
       "        -68.81683431,  113.48605077,  117.02896618,  115.65288098,\n",
       "        120.21844073,  121.61112353, -111.87238388, -115.93668476,\n",
       "        124.4601602 ,  129.86009589,  129.7989515 , -121.32113355,\n",
       "       -128.53627014, -146.51747529, -139.57435679, -134.45552536,\n",
       "       -134.29708752,  139.43094027, -135.07518672,  142.79579978,\n",
       "        151.71428409,  157.61184296,  152.08810149,  146.05560568,\n",
       "       -157.09221905])"
      ]
     },
     "execution_count": 69,
     "metadata": {},
     "output_type": "execute_result"
    }
   ],
   "source": [
    "deproject(center_coord=center_coord, incl=incl, pa=pa, ra=x, dec=y, return_offset=True)[1]"
   ]
  },
  {
   "cell_type": "code",
   "execution_count": 54,
   "id": "reasonable-justice",
   "metadata": {},
   "outputs": [
    {
     "data": {
      "text/plain": [
       "<function deprojectGalaxy.deproject(center_coord=None, incl=<Quantity 0. deg>, pa=<Quantity 0. deg>, header=None, wcs=None, naxis=None, ra=None, dec=None, return_offset=False)>"
      ]
     },
     "execution_count": 54,
     "metadata": {},
     "output_type": "execute_result"
    }
   ],
   "source": [
    "deproject"
   ]
  },
  {
   "cell_type": "code",
   "execution_count": 71,
   "id": "numerous-norman",
   "metadata": {},
   "outputs": [
    {
     "data": {
      "text/latex": [
       "$[-32.780317,~-32.854453,~-32.779738,~\\dots,~-32.846466,~-32.843383,~-32.846922] \\; \\mathrm{{}^{\\circ}}$"
      ],
      "text/plain": [
       "<Quantity [-32.78031711, -32.85445298, -32.77973786, -32.77739335,\n",
       "           -32.78181959, -32.7803593 , -32.78126913, -32.78168097,\n",
       "           -32.78396524, -32.7858719 , -32.79822955, -32.7992457 ,\n",
       "           -32.79565829, -32.80754961, -32.7922329 , -32.79339777,\n",
       "           -32.80623589, -32.80235325, -32.80377717, -32.7995426 ,\n",
       "           -32.80145902, -32.8119643 , -32.81487702, -32.80926247,\n",
       "           -32.80517692, -32.81496852, -32.81994157, -32.8216155 ,\n",
       "           -32.81669376, -32.81845327, -32.8193118 , -32.82630421,\n",
       "           -32.8214607 , -32.80521418, -32.7890523 , -32.80002457,\n",
       "           -32.78454927, -32.79246369, -32.79159535, -32.79317909,\n",
       "           -32.82370721, -32.79455624, -32.79684183, -32.79561125,\n",
       "           -32.79692149, -32.82028794, -32.8216393 , -32.84091405,\n",
       "           -32.82055091, -32.82839315, -32.82959939, -32.78571659,\n",
       "           -32.8317387 , -32.8309206 , -32.8111044 , -32.79892597,\n",
       "           -32.82300183, -32.81886406, -32.8051059 , -32.80964638,\n",
       "           -32.83864223, -32.84008989, -32.82982951, -32.83033792,\n",
       "           -32.82776961, -32.82493661, -32.81223378, -32.81566031,\n",
       "           -32.81010208, -32.81408488, -32.81134332, -32.81705824,\n",
       "           -32.81928294, -32.78697311, -32.81778402, -32.81845554,\n",
       "           -32.80011197, -32.80892704, -32.81663464, -32.80729597,\n",
       "           -32.80764546, -32.80366993, -32.8079106 , -32.82660428,\n",
       "           -32.78888176, -32.7879142 , -32.81726943, -32.81961791,\n",
       "           -32.81483245, -32.81621553, -32.81833377, -32.81699071,\n",
       "           -32.80515566, -32.81938622, -32.79509875, -32.80036914,\n",
       "           -32.80165589, -32.80515607, -32.80742599, -32.80747753,\n",
       "           -32.80700914, -32.81514911, -32.82316439, -32.82064527,\n",
       "           -32.81145366, -32.83790037, -32.79157108, -32.80282281,\n",
       "           -32.803636  , -32.80955188, -32.81107918, -32.81417663,\n",
       "           -32.81432664, -32.83692138, -32.79242749, -32.79545274,\n",
       "           -32.79800986, -32.8005828 , -32.78857155, -32.80264886,\n",
       "           -32.8099355 , -32.8122235 , -32.81074705, -32.81268013,\n",
       "           -32.82322415, -32.79055961, -32.79875469, -32.81793007,\n",
       "           -32.79228801, -32.79329252, -32.79953929, -32.80131707,\n",
       "           -32.79097176, -32.79368858, -32.79431178, -32.79653287,\n",
       "           -32.79908564, -32.79828315, -32.80103733, -32.80343418,\n",
       "           -32.81456454, -32.83265372, -32.83315246, -32.83085798,\n",
       "           -32.80790659, -32.80930879, -32.81058503, -32.81470249,\n",
       "           -32.8121038 , -32.81324378, -32.82792195, -32.8285248 ,\n",
       "           -32.82954658, -32.81459923, -32.81664963, -32.81454608,\n",
       "           -32.81269239, -32.81221445, -32.82214489, -32.8220141 ,\n",
       "           -32.82994259, -32.82029379, -32.82125114, -32.82346924,\n",
       "           -32.82566318, -32.82842916, -32.83182249, -32.82560724,\n",
       "           -32.82758004, -32.82513147, -32.82473981, -32.82329378,\n",
       "           -32.8257485 , -32.82498278, -32.82811103, -32.82953141,\n",
       "           -32.8206417 , -32.82284182, -32.82623037, -32.82479469,\n",
       "           -32.78813304, -32.83403492, -32.83690502, -32.83193481,\n",
       "           -32.83200764, -32.83421827, -32.82528415, -32.82954675,\n",
       "           -32.84052782, -32.83932019, -32.840141  , -32.83482777,\n",
       "           -32.83293968, -32.84046444, -32.83654072, -32.8351062 ,\n",
       "           -32.83421792, -32.84130405, -32.84026788, -32.83383049,\n",
       "           -32.83501284, -32.84440881, -32.84646566, -32.84338276,\n",
       "           -32.84692204] deg>"
      ]
     },
     "execution_count": 71,
     "metadata": {},
     "output_type": "execute_result"
    }
   ],
   "source": []
  },
  {
   "cell_type": "code",
   "execution_count": null,
   "id": "stretch-fellow",
   "metadata": {},
   "outputs": [],
   "source": []
  }
 ],
 "metadata": {
  "kernelspec": {
   "display_name": "Python 3",
   "language": "python",
   "name": "python3"
  },
  "language_info": {
   "codemirror_mode": {
    "name": "ipython",
    "version": 3
   },
   "file_extension": ".py",
   "mimetype": "text/x-python",
   "name": "python",
   "nbconvert_exporter": "python",
   "pygments_lexer": "ipython3",
   "version": "3.7.2"
  }
 },
 "nbformat": 4,
 "nbformat_minor": 5
}
