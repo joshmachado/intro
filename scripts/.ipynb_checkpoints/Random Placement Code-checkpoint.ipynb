{
 "cells": [
  {
   "cell_type": "markdown",
   "metadata": {},
   "source": [
    "Here is the random placement code. You should be able to generalize everything! Please let me know if you have any questions!"
   ]
  },
  {
   "cell_type": "code",
   "execution_count": 325,
   "metadata": {},
   "outputs": [],
   "source": [
    "# import packages and initialize settings\n",
    "\n",
    "import numpy as np\n",
    "from astropy.io import fits\n",
    "import astropy.io.fits as pyfits\n",
    "from astropy.wcs import WCS\n",
    "import matplotlib.pyplot as plt\n",
    "from astropy.table import Table\n",
    "import pandas as pd\n",
    "import math\n",
    "import random as r\n",
    "import scipy.stats"
   ]
  },
  {
   "cell_type": "code",
   "execution_count": 326,
   "metadata": {},
   "outputs": [],
   "source": [
    "# This block of code contains the function to read fits file \n",
    "# and deproject galaxy using Adam's deproject.py file\n",
    "\n",
    "\n",
    "import sys\n",
    "sys.path.append('/Users/josh/projects/intro/scripts')\n",
    "from deprojectGalaxy import deproject\n",
    "\n",
    "def deprojectMap(image, errImage, galRA, galDEC, pa, incl, galDist):\n",
    "    # convert pixel map to x' & y' and ra & dec\n",
    "    # image and errImage are the image and noise file pathways\n",
    "    # galRA, galDEC, pa, incl, galDist are all found within the PHANGS datatabels\n",
    "\n",
    "    hdulist   = pyfits.open(image)\n",
    "    intMap    = hdulist[0].data\n",
    "    hdulist2  = pyfits.open(errImage)\n",
    "    errMap    = hdulist2[0].data\n",
    "        \n",
    "    wcs      = WCS(hdulist[0].header, naxis=2)\n",
    "    naxis    = wcs._naxis # size of image naxis[0] = x and [1] = y\n",
    "    grid     = np.indices((naxis[1],naxis[0]))\n",
    "    ra, dec  = wcs.wcs_pix2world(grid[1],grid[0],0)\n",
    "\n",
    "    centerCoord = [galRA, galDEC]\n",
    "    \n",
    "    #deproject ra and dec to dx and dy\n",
    "    radius, projang, dx, dy = deproject(center_coord=centerCoord, incl=incl, pa=pa, ra=ra, dec=dec, return_offset=True)\n",
    "    \n",
    "    # show galaxy image\n",
    "    # plt.imshow(map, origin='lower', interpolation='nearest', zorder=1)\n",
    "\n",
    "    #flatten data structures \n",
    "    f_int  = intMap.flatten()\n",
    "    f_err  = errMap.flatten()\n",
    "    f_ra   = ra.flatten()\n",
    "    f_dec  = dec.flatten()    \n",
    "    f_dx   = dx.flatten()\n",
    "    f_dy   = dy.flatten()       \n",
    "    \n",
    "    #remove nans\n",
    "    keep  = np.where(np.isfinite(f_int))\n",
    "    inten = f_int[keep]\n",
    "    err   = f_err[keep]\n",
    "    ra    = f_ra[keep]\n",
    "    dec   = f_dec[keep]\n",
    "    dx    = f_dx[keep]\n",
    "    dy    = f_dy[keep]\n",
    "    \n",
    "    # calculate SNR\n",
    "    SNR = []\n",
    "    for i in range(len(inten)):\n",
    "        if err[i] == 0.0:\n",
    "            SNR.append(0.0)\n",
    "        elif inten[i] < 0.0:\n",
    "            SNR.append(0.0)           \n",
    "        else:\n",
    "            SNR.append(inten[i]/err[i])\n",
    "\n",
    "    return(inten, err, SNR, ra, dec, dx, dy)\n",
    "    "
   ]
  },
  {
   "cell_type": "code",
   "execution_count": 327,
   "metadata": {},
   "outputs": [],
   "source": [
    "# This block of code contains the supporting functions to generate \n",
    "# a random distribution, you should not need to call any of these \n",
    "# funcitons specifically.\n",
    "\n",
    "def arraySort(variable, distance):\n",
    "    # sorts variable and distance list by shortest distance\n",
    "    # variable, distance: lists holding measurement of variable and distance to that measurement\n",
    "    pattern = distance.argsort()\n",
    "    dist = distance[pattern]\n",
    "    var = variable[pattern]\n",
    "    return (var, dist)\n",
    "\n",
    "def findNearest(varArray, value, distArray):\n",
    "    # sorts variable by distance, returning the closest that has the given value \n",
    "    # varArray, distArray: arrays holding measurement of variable and distance to that measurement\n",
    "    # value: float. \n",
    "    var, dist = arraySort(varArray, distArray)\n",
    "    ind = np.where(var >= value)\n",
    "    \n",
    "    if len(dist[ind]) > 0:\n",
    "        nearestVal  = np.argmin(dist[ind])\n",
    "        nearestDist = dist[ind][nearestVal] \n",
    "        varVal     = var[ind][nearestVal]\n",
    "\n",
    "    else:\n",
    "        varVal     = float('nan')\n",
    "        nearestDist = float('nan')\n",
    "        \n",
    "    return(varVal, nearestDist)\n",
    "    \n",
    "def printNearest(inten, SNR, dist_kpc, value, SNRcutoff = 3.0):\n",
    "    # returns distance to the nearest molecular cloud and the intensity value found\n",
    "    \n",
    "    #apply SNR cutoff\n",
    "    intenCut, dist_kpcCut = [],[]\n",
    "    for i in range(len(inten)):\n",
    "        if (SNR[i] >= SNRcutoff):\n",
    "            intenCut.append(inten[i])\n",
    "            dist_kpcCut.append(dist_kpc[i])\n",
    "    \n",
    "    valFound, nearestMC = findNearest(np.array(intenCut), value, np.array(dist_kpcCut))\n",
    "    \n",
    "    return(nearestMC, valFound)      \n",
    "\n",
    "def distanceCalculator(x1, x2, y1, y2, galDist):\n",
    "    #calculate distance between two points (in kpc)\n",
    "    #x1, y1 = xprime and yprime, x2, y2 = SN coords, dist = distance to galaxy (kpc)\n",
    "    d = np.sqrt((x2-x1)**2 + (y2-y1)**2)\n",
    "    x = galDist * np.tan(d*np.pi/180.0)\n",
    "    return(x)\n",
    "\n",
    "def normalize(weightsArray):\n",
    "    # takes a list of weights and normalizes them\n",
    "    prob_factor = 1 / sum(weightsArray)\n",
    "    return [prob_factor * p for p in weightsArray]\n",
    "\n"
   ]
  },
  {
   "cell_type": "code",
   "execution_count": 328,
   "metadata": {},
   "outputs": [],
   "source": [
    "# This block of code contains the random function, \n",
    "# which performs your random placement experiment using the \n",
    "# support functions above.\n",
    "\n",
    "def random(numTests, weightsArray, dx, dy, ra, dec, galDist):\n",
    "\n",
    "    # takes number of tests, array of weights, deprojected and \n",
    "    #       official coordinates, and distance to galaxy...and returns\n",
    "    #       list of numTests # of random values, their nearest distance, \n",
    "    #       and their randomly generated coordinates\n",
    "    # numTests: int , number of randomly generated values\n",
    "    # weightsArray: list of weights \n",
    "    # dx&dy:  deprojected coordinates\n",
    "    # ra&dec: official coordinates \n",
    "    # galDist: distance to galaxy in kpc\n",
    "    val, dist, randX, randY, randRA, randDEC = [],[],[],[],[],[]\n",
    "    \n",
    "    for i in range(numTests):\n",
    "        \n",
    "        total = sum(weightsArray)\n",
    "        prob  = weightsArray/total \n",
    "        prob  = normalize(prob)\n",
    "        \n",
    "        nX = len(dx)\n",
    "        indicies = np.arange(nX, dtype=int)\n",
    "        randInt = np.random.choice(indicies, p=prob)\n",
    "\n",
    "        rX   = dx[randInt]\n",
    "        rY   = dy[randInt]\n",
    "        rRA  = ra[randInt]\n",
    "        rDEC = dec[randInt]\n",
    "\n",
    "        distRand = []\n",
    "        distRand = distanceCalculator(dx, rX, dy, rY, galDist)\n",
    "\n",
    "        # set sorting cutoff\n",
    "        intenCutoff = 0\n",
    "        \n",
    "        distance, value = printNearest(inten, SNR, distRand, intenCutoff, SNRcutoff=0)\n",
    "        val.append(value)\n",
    "        dist.append(distance)\n",
    "        randX.append(rX)\n",
    "        randY.append(rY)\n",
    "        randRA.append(rRA)\n",
    "        randDEC.append(rDEC)\n",
    "    return(val, dist, randX, randY, randRA, randDEC)"
   ]
  },
  {
   "cell_type": "code",
   "execution_count": null,
   "metadata": {},
   "outputs": [],
   "source": [
    "#PREP COVERAGE MAPS\n",
    "from astropy.io import fits\n",
    "import numpy as np\n",
    "cube = fits.open(fn)\n",
    "cube[0].data = np.isfinite(cube[0].data).astype(int)\n",
    "cube.writeto(source+'_2dcoverage.fits')"
   ]
  },
  {
   "cell_type": "code",
   "execution_count": 329,
   "metadata": {},
   "outputs": [],
   "source": [
    "image = '/Users/josh/projects/ngc6300_2dcoverage.fits'\n",
    "errImage = '/Users/josh/projects/ngc6300_12m+7m+tp_co21_150pc_strict_emom0.fits'\n",
    "tab_loc = '/Users/josh/projects/'\n",
    "t = Table.read(tab_loc+'phangs_sample_table_v1p6.fits')"
   ]
  },
  {
   "cell_type": "code",
   "execution_count": 330,
   "metadata": {},
   "outputs": [],
   "source": [
    "obj = deprojectMap(image, errImage, t[111]['orient_ra'], t[111]['orient_dec'], \n",
    "             t[111]['orient_posang'], t[111]['orient_incl'], t[111]['dist'] )"
   ]
  },
  {
   "cell_type": "code",
   "execution_count": 331,
   "metadata": {},
   "outputs": [],
   "source": [
    "source = 'ngc6300'\n",
    "res = 150\n",
    "loc = '/Users/josh/projects/intro/sources'\n",
    "fp = '/Users/josh/projects/intro/sources/'+str(source)+'/'+str(source)+'_'+str(res)+'pc_cloud_stats.csv'\n",
    "cat = pd.read_csv(fp)\n",
    "\n"
   ]
  },
  {
   "cell_type": "code",
   "execution_count": 332,
   "metadata": {},
   "outputs": [
    {
     "data": {
      "text/plain": [
       "array([1, 1, 1, ..., 1, 1, 1])"
      ]
     },
     "execution_count": 332,
     "metadata": {},
     "output_type": "execute_result"
    }
   ],
   "source": [
    "obj[0]"
   ]
  },
  {
   "cell_type": "code",
   "execution_count": 334,
   "metadata": {},
   "outputs": [],
   "source": [
    "def distcalc(coords, source, res):\n",
    "    fp = '/Users/josh/projects/intro/sources/'+source+'/'+source+'_12m+7m+tp_co21_'+str(res)+'pc_props.fits.bz2'\n",
    "    tab = Table.read(fp)\n",
    "    RA = coords[0]\n",
    "    DEC = coords[1]\n",
    "    mean_dist = np.zeros([4,3])\n",
    "    percentiles = np.zeros([4,15])\n",
    "    perc = [5,16,50,84,95]\n",
    "    dist = np.zeros((len(RA),len(RA)))\n",
    "    distance = np.array(tab['DISTANCE_PC'])\n",
    "    mindist = np.zeros(len(RA)) #stores distance to nearest neighbor\n",
    "    mindist2 = np.zeros(len(RA)) #stores distance to 2nd nearest neighbor\n",
    "    mindist3 = np.zeros(len(RA)) #stores distance to 3rd nearest neighbor\n",
    "    nn = np.zeros(len(RA)) #stores CloudNum of nearest neighbor\n",
    "    nn2 = np.zeros(len(RA)) #stores CloudNum of 2nd nearest neighbor\n",
    "    nn3 = np.zeros(len(RA)) #stores CloudNum of 3rd nearest neighbor\n",
    "    k = 0\n",
    "    j = 0\n",
    "    while k < len(RA):\n",
    "        for j in range(len(RA)):\n",
    "            dist[k,j] = np.sqrt(np.square(RA[k] - RA[j]) + np.square(DEC[k] - DEC[j]))\n",
    "        k+=1\n",
    "    dist[dist == 0] = np.nan\n",
    "    k=0\n",
    "    for k in range(len(RA)):\n",
    "        ind = np.where(dist[k] == np.nanmin(dist[k])) #index of nearest neighbor\n",
    "        ind2 = np.where(dist[k] == np.partition(dist[k], 1)[1]) #index of 2nd nearest neighbor\n",
    "        ind3 = np.where(dist[k] == np.partition(dist[k], 2)[2]) #index of 3rd nearest neighbor\n",
    "        mindist[k] = np.deg2rad(dist[k,int(ind[0][0])])*distance[0]\n",
    "        mindist2[k] = np.deg2rad(dist[k,int(ind2[0][0])])*distance[0]\n",
    "        mindist3[k] = np.deg2rad(dist[k,int(ind3[0][0])])*distance[0]\n",
    "    return(mindist, mindist2, mindist3)\n"
   ]
  },
  {
   "cell_type": "code",
   "execution_count": 455,
   "metadata": {},
   "outputs": [],
   "source": [
    "n = 1e4 #TOTAL NUMBER OF DESIRED RANDOM PLACEMENTS DESIRED\n",
    "numTests = len(cat['min_dist']) #Number of placements per loop (equal to num of real clouds)\n",
    "numloop = math.ceil(n/numTests)\n",
    "inten=obj[0]\n",
    "SNR = obj[2]\n",
    "dx = obj[5]\n",
    "dy = obj[6]\n",
    "galDist = t[111]['dist']\n",
    "coords = [[],[]]\n",
    "rand_first, rand_second, rand_third = [], [], []\n",
    "for i in range(numloop):\n",
    "    tests = random(numTests, inten, dx, dy, obj[3], obj[4], galDist)\n",
    "    coords[0] = tests[4]\n",
    "    coords[1] = tests[5]\n",
    "    z = distcalc(coords, source, res)\n",
    "    rand_first.extend(z[0])\n",
    "    rand_second.extend(z[1])\n",
    "    rand_third.extend(z[2])\n",
    "    #coords[0].extend(tests[4])\n",
    "    #coords[1].extend(tests[5])\n",
    "    #Save / Store each individual simulation run\n"
   ]
  },
  {
   "cell_type": "code",
   "execution_count": 456,
   "metadata": {},
   "outputs": [
    {
     "data": {
      "text/plain": [
       "10101"
      ]
     },
     "execution_count": 456,
     "metadata": {},
     "output_type": "execute_result"
    }
   ],
   "source": [
    "len(rand_first)"
   ]
  },
  {
   "cell_type": "code",
   "execution_count": null,
   "metadata": {},
   "outputs": [],
   "source": []
  },
  {
   "cell_type": "code",
   "execution_count": 457,
   "metadata": {},
   "outputs": [],
   "source": [
    "#rand_first = z[0]\n",
    "true_first = cat['min_dist']"
   ]
  },
  {
   "cell_type": "code",
   "execution_count": 458,
   "metadata": {},
   "outputs": [],
   "source": [
    "from scipy.stats import norm"
   ]
  },
  {
   "cell_type": "code",
   "execution_count": 459,
   "metadata": {},
   "outputs": [],
   "source": [
    "rand_mean = np.mean(rand_first)\n",
    "rand_std = np.std(rand_first)\n",
    "\n",
    "true_mean = np.mean(true_first)\n",
    "true_std = np.std(true_first)"
   ]
  },
  {
   "cell_type": "code",
   "execution_count": 460,
   "metadata": {},
   "outputs": [],
   "source": [
    "rand_cdf = norm.cdf(rand_first, rand_mean, rand_std)\n",
    "true_cdf = norm.cdf(true_first, true_mean, true_std)"
   ]
  },
  {
   "cell_type": "code",
   "execution_count": null,
   "metadata": {},
   "outputs": [],
   "source": []
  },
  {
   "cell_type": "code",
   "execution_count": 461,
   "metadata": {},
   "outputs": [
    {
     "data": {
      "text/plain": [
       "593.0060448681165"
      ]
     },
     "execution_count": 461,
     "metadata": {},
     "output_type": "execute_result"
    }
   ],
   "source": [
    "rand_mean"
   ]
  },
  {
   "cell_type": "code",
   "execution_count": 462,
   "metadata": {},
   "outputs": [
    {
     "data": {
      "text/plain": [
       "176.08935853934608"
      ]
     },
     "execution_count": 462,
     "metadata": {},
     "output_type": "execute_result"
    }
   ],
   "source": [
    "true_mean"
   ]
  },
  {
   "cell_type": "code",
   "execution_count": 463,
   "metadata": {},
   "outputs": [
    {
     "data": {
      "text/plain": [
       "259"
      ]
     },
     "execution_count": 463,
     "metadata": {},
     "output_type": "execute_result"
    }
   ],
   "source": [
    "len(rand_cdf)\n",
    "len(true_cdf)"
   ]
  },
  {
   "cell_type": "code",
   "execution_count": 464,
   "metadata": {},
   "outputs": [],
   "source": [
    "z = norm.pdf(rand_first, rand_mean, rand_std)"
   ]
  },
  {
   "cell_type": "code",
   "execution_count": 465,
   "metadata": {},
   "outputs": [],
   "source": [
    "rand_sample = r.sample(rand_first, len(true_first))"
   ]
  },
  {
   "cell_type": "code",
   "execution_count": 466,
   "metadata": {},
   "outputs": [],
   "source": [
    "z = norm.pdf(rand_sample, rand_mean, rand_std)"
   ]
  },
  {
   "cell_type": "code",
   "execution_count": 467,
   "metadata": {},
   "outputs": [],
   "source": [
    "y = norm.pdf(true_first, true_mean, true_std)"
   ]
  },
  {
   "cell_type": "code",
   "execution_count": 468,
   "metadata": {},
   "outputs": [
    {
     "data": {
      "text/plain": [
       "259"
      ]
     },
     "execution_count": 468,
     "metadata": {},
     "output_type": "execute_result"
    }
   ],
   "source": [
    "len(true_first)"
   ]
  },
  {
   "cell_type": "code",
   "execution_count": 469,
   "metadata": {},
   "outputs": [
    {
     "data": {
      "text/plain": [
       "KstestResult(statistic=0.7092367092367092, pvalue=9.177358733902874e-129)"
      ]
     },
     "execution_count": 469,
     "metadata": {},
     "output_type": "execute_result"
    }
   ],
   "source": [
    "scipy.stats.kstest(rand_first, true_first)"
   ]
  },
  {
   "cell_type": "code",
   "execution_count": 470,
   "metadata": {},
   "outputs": [
    {
     "data": {
      "text/plain": [
       "KstestResult(statistic=0.7092367092367092, pvalue=9.177358733902874e-129)"
      ]
     },
     "execution_count": 470,
     "metadata": {},
     "output_type": "execute_result"
    }
   ],
   "source": [
    "scipy.stats.kstest(true_first, rand_first)"
   ]
  },
  {
   "cell_type": "code",
   "execution_count": 471,
   "metadata": {},
   "outputs": [
    {
     "data": {
      "text/plain": [
       "AndersonResult(statistic=82.52187157429216, critical_values=array([0.576, 0.656, 0.787, 0.918, 1.092]), significance_level=array([15. , 10. ,  5. ,  2.5,  1. ]))"
      ]
     },
     "execution_count": 471,
     "metadata": {},
     "output_type": "execute_result"
    }
   ],
   "source": [
    "scipy.stats.anderson(rand_first, dist='norm')"
   ]
  },
  {
   "cell_type": "code",
   "execution_count": 472,
   "metadata": {},
   "outputs": [
    {
     "data": {
      "text/plain": [
       "AndersonResult(statistic=2.1596456296468887, critical_values=array([0.567, 0.646, 0.775, 0.904, 1.076]), significance_level=array([15. , 10. ,  5. ,  2.5,  1. ]))"
      ]
     },
     "execution_count": 472,
     "metadata": {},
     "output_type": "execute_result"
    }
   ],
   "source": [
    "scipy.stats.anderson(true_first, dist='norm')"
   ]
  },
  {
   "cell_type": "code",
   "execution_count": 473,
   "metadata": {},
   "outputs": [
    {
     "data": {
      "text/plain": [
       "Text(0.5, 0.98, 'GMC Nearest Neighbor Seperation in NGC 6300')"
      ]
     },
     "execution_count": 473,
     "metadata": {},
     "output_type": "execute_result"
    },
    {
     "data": {
      "image/png": "[encoded data removed]",
      "text/plain": [
       "<Figure size 1080x720 with 9 Axes>"
      ]
     },
     "metadata": {
      "needs_background": "light"
     },
     "output_type": "display_data"
    }
   ],
   "source": [
    "sub_x = 3\n",
    "sub_y = 3\n",
    "figsize = (5*sub_x, 10)\n",
    "fig, ax = plt.subplots(sub_x, sub_y, figsize=figsize)\n",
    "for i in range(sub_x):\n",
    "    for j in range(sub_y):\n",
    "        rand_sample = r.sample(rand_first, len(true_first))\n",
    "        ax[i,j].hist(true_first, alpha=0.4, label='Real: '+str(np.around(np.median(true_first))))\n",
    "        ax[i,j].hist(rand_sample, alpha=0.4, label='Rand: '+str(np.around(np.median(rand_sample))))\n",
    "        ax[i,j].legend()\n",
    "fig.suptitle('GMC Nearest Neighbor Seperation in NGC 6300', fontsize=20)"
   ]
  },
  {
   "cell_type": "code",
   "execution_count": 474,
   "metadata": {},
   "outputs": [
    {
     "data": {
      "text/plain": [
       "259"
      ]
     },
     "execution_count": 474,
     "metadata": {},
     "output_type": "execute_result"
    }
   ],
   "source": [
    "len(true_first)"
   ]
  },
  {
   "cell_type": "code",
   "execution_count": 475,
   "metadata": {},
   "outputs": [],
   "source": [
    "###FRACTIONAL DIST\n",
    "bins = np.linspace(0,1000, 21) #50pc bins"
   ]
  },
  {
   "cell_type": "code",
   "execution_count": 476,
   "metadata": {},
   "outputs": [
    {
     "data": {
      "image/png": "[encoded data removed]",
      "text/plain": [
       "<Figure size 800x500 with 1 Axes>"
      ]
     },
     "metadata": {
      "needs_background": "light"
     },
     "output_type": "display_data"
    }
   ],
   "source": [
    "#Table info\n",
    "num = [len(true_first), len(rand_first)]\n",
    "mean = np.around([np.mean(true_first), np.mean(rand_first)])\n",
    "median = np.around([np.median(true_first),np.median(rand_first)])\n",
    "perc_16 = np.around([np.percentile(true_first,16),np.percentile(rand_first, 16)])\n",
    "perc_84 = np.around([np.percentile(true_first,84),np.percentile(rand_first, 84)])\n",
    "rows = ['Num', 'Mean', 'Median', '16th Percentile', '84th Percentile']\n",
    "columns = ['CPROPS GMCs', 'Random Placement']\n",
    "cell_text = [num,mean,median,perc_16,perc_84]\n",
    "\n",
    "\n",
    "\n",
    "\n",
    "plt.figure(figsize=(8,5), dpi = 100)\n",
    "plt.hist(true_first, bins=bins, density=True, alpha = 0.4, label='CPROPS GMCs')\n",
    "plt.hist(rand_first, bins=bins, density=True, alpha=0.4, label='Random Placement')\n",
    "plt.legend()\n",
    "plt.xlabel('Nearest Neighbor Separation (pc)', fontsize=12)\n",
    "table = plt.table(cellText=cell_text, rowLabels=rows, colLabels=columns, loc='bottom left', bbox=[0.15, -0.6, 0.85, 0.4])\n",
    "plt.title('NGC6300 at 150pc Resolution', fontsize=15)\n",
    "table.set_fontsize(14)"
   ]
  },
  {
   "cell_type": "code",
   "execution_count": 477,
   "metadata": {},
   "outputs": [
    {
     "data": {
      "text/plain": [
       "10101"
      ]
     },
     "execution_count": 477,
     "metadata": {},
     "output_type": "execute_result"
    }
   ],
   "source": [
    "len(rand_first)"
   ]
  },
  {
   "cell_type": "code",
   "execution_count": null,
   "metadata": {},
   "outputs": [],
   "source": []
  },
  {
   "cell_type": "code",
   "execution_count": null,
   "metadata": {},
   "outputs": [],
   "source": []
  }
 ],
 "metadata": {
  "kernelspec": {
   "display_name": "Python 3",
   "language": "python",
   "name": "python3"
  },
  "language_info": {
   "codemirror_mode": {
    "name": "ipython",
    "version": 3
   },
   "file_extension": ".py",
   "mimetype": "text/x-python",
   "name": "python",
   "nbconvert_exporter": "python",
   "pygments_lexer": "ipython3",
   "version": "3.8.3"
  }
 },
 "nbformat": 4,
 "nbformat_minor": 2
}
