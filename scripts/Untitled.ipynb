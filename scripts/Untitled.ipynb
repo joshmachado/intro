{
 "cells": [
  {
   "cell_type": "code",
   "execution_count": 81,
   "metadata": {},
   "outputs": [],
   "source": [
    "import numpy as np\n",
    "from astropy.io import fits\n",
    "import matplotlib.pyplot as plt\n",
    "from astropy.wcs import WCS\n",
    "from astropy.coordinates import SkyCoord\n",
    "import astropy.units as u"
   ]
  },
  {
   "cell_type": "code",
   "execution_count": 67,
   "metadata": {},
   "outputs": [],
   "source": [
    "fp = '/Users/josh/projects/misc/phangs_sample_table_v1p6.fits'\n",
    "tab = fits.open(fp)"
   ]
  },
  {
   "cell_type": "code",
   "execution_count": 126,
   "metadata": {},
   "outputs": [],
   "source": [
    "dist  = tab[1].data.dist[111]*u.Mpc"
   ]
  },
  {
   "cell_type": "code",
   "execution_count": 68,
   "metadata": {},
   "outputs": [],
   "source": [
    "np.where(tab[1].data.name == 'ngc6300')\n",
    "l_sl = tab[1].data.size_scalelength[111]"
   ]
  },
  {
   "cell_type": "code",
   "execution_count": 138,
   "metadata": {},
   "outputs": [
    {
     "data": {
      "text/plain": [
       "37.662437"
      ]
     },
     "execution_count": 138,
     "metadata": {},
     "output_type": "execute_result"
    }
   ],
   "source": [
    "r_gal = np.linspace(0.1,l_sl, 10**5)\n",
    "l_sl"
   ]
  },
  {
   "cell_type": "code",
   "execution_count": 139,
   "metadata": {},
   "outputs": [],
   "source": [
    "I_CO = np.exp(r_gal/l_sl)"
   ]
  },
  {
   "cell_type": "code",
   "execution_count": 140,
   "metadata": {},
   "outputs": [
    {
     "data": {
      "text/plain": [
       "array([1.00265869, 1.00266869, 1.00267869, ..., 2.71822761, 2.71825472,\n",
       "       2.71828183])"
      ]
     },
     "execution_count": 140,
     "metadata": {},
     "output_type": "execute_result"
    }
   ],
   "source": [
    "I_CO"
   ]
  },
  {
   "cell_type": "code",
   "execution_count": 141,
   "metadata": {},
   "outputs": [],
   "source": [
    "norm = np.linalg.norm(I_CO)\n",
    "\n",
    "I_CO = I_CO/norm\n"
   ]
  },
  {
   "cell_type": "code",
   "execution_count": 144,
   "metadata": {},
   "outputs": [
    {
     "data": {
      "text/plain": [
       "304.07210965792"
      ]
     },
     "execution_count": 144,
     "metadata": {},
     "output_type": "execute_result"
    }
   ],
   "source": [
    "np.sum(I_CO)"
   ]
  },
  {
   "cell_type": "code",
   "execution_count": 253,
   "metadata": {},
   "outputs": [],
   "source": [
    "mask_loc = '/Users/josh/projects/misc/ngc6300_2dcoverage.fits'\n",
    "mask = fits.open(mask_loc)"
   ]
  },
  {
   "cell_type": "code",
   "execution_count": 254,
   "metadata": {},
   "outputs": [
    {
     "data": {
      "text/plain": [
       "<matplotlib.image.AxesImage at 0x7fdc8e4f7880>"
      ]
     },
     "execution_count": 254,
     "metadata": {},
     "output_type": "execute_result"
    },
    {
     "data": {
      "image/png": "[encoded data removed]",
      "text/plain": [
       "<Figure size 432x288 with 1 Axes>"
      ]
     },
     "metadata": {
      "needs_background": "light"
     },
     "output_type": "display_data"
    }
   ],
   "source": [
    "plt.imshow(mask[0].data)"
   ]
  },
  {
   "cell_type": "code",
   "execution_count": 258,
   "metadata": {},
   "outputs": [
    {
     "data": {
      "text/plain": [
       "array([1, 1, 1, 1, 1, 1, 1, 1, 1, 1, 1, 1, 1, 1, 1, 1, 1, 1, 1, 1, 1, 1,\n",
       "       1, 1, 1, 1, 1, 1, 1, 1, 1, 1, 1, 1, 1, 1, 1, 1, 1, 1, 1, 1, 1, 1,\n",
       "       1, 1, 1, 1, 1, 1, 1, 1, 1, 1, 1, 1, 1, 1, 1, 1, 1, 1, 1, 1, 1, 1,\n",
       "       1, 1, 1, 1, 1, 1, 1, 1, 1, 1, 1, 1, 1, 1, 1, 1, 1, 1, 1, 1, 1, 1,\n",
       "       1, 1, 1, 1, 1, 1, 1, 1, 1, 1, 1, 1, 1, 1, 1, 1, 1, 1, 1, 1, 1, 1,\n",
       "       1, 1, 1, 1, 1, 1, 1, 1, 1, 1, 1, 1, 1, 1, 1, 1, 1, 1, 1, 1, 1, 1,\n",
       "       1, 1, 1, 1, 1, 1, 1, 1, 1, 1, 1, 1, 1, 1, 1, 1, 1, 1, 1, 1, 1, 1,\n",
       "       1, 1, 1, 1, 1, 1, 1, 1, 1, 1, 1, 1, 1, 1, 1, 1, 1, 1, 1, 1, 1, 1,\n",
       "       1, 1, 1, 1, 1, 1, 1, 1, 1, 1, 1, 1, 1, 1, 1, 1, 1, 1, 1, 1, 1, 1,\n",
       "       1, 1, 1, 1, 1, 1, 1, 1, 1, 1, 1, 1, 1, 1, 1, 1, 1, 1, 1, 1, 1, 1,\n",
       "       1, 1, 1, 1, 1, 1, 1, 1, 1, 1, 1, 1, 1, 1, 1, 1, 1, 1, 1, 1, 1, 1,\n",
       "       1, 1, 1, 1, 1, 1, 1, 1, 1, 1, 1, 1, 1, 1, 1, 1, 1, 1, 1, 1, 1, 1,\n",
       "       1, 1, 1, 1, 1, 1, 1, 1, 1, 1, 1, 1, 1, 1, 1, 1, 1, 1, 1, 1, 1, 1,\n",
       "       1, 1, 1, 1, 1, 1, 1, 1, 1, 1, 1, 1, 1, 1, 1, 1, 1, 1, 1, 1, 1, 1,\n",
       "       1, 1, 1, 1, 1, 1, 1, 1, 1, 1, 1, 1, 1, 1, 1, 1, 1, 1, 1, 1, 1, 1,\n",
       "       1, 1, 1, 1, 1, 1, 1, 1, 1, 1, 1, 1, 1, 1, 1, 1, 1, 1, 1, 1, 1, 1,\n",
       "       1, 1, 1, 1, 1, 1, 1, 1, 1, 1, 1, 1, 1, 1, 1, 1, 1, 1, 1, 1, 1, 1,\n",
       "       1, 1, 1, 1, 1, 1, 1, 1, 1, 1, 1, 1, 1, 1, 1, 1, 1, 1, 1, 1, 1, 1,\n",
       "       1, 1, 1, 1, 1, 1, 1, 1, 1, 1, 1, 1, 1, 1, 1, 1, 1, 1, 1, 1, 1, 1,\n",
       "       1, 1, 1, 1, 1, 1, 1, 1, 1, 1, 1, 1, 1, 1, 1, 1, 1, 1, 1, 1, 1, 1,\n",
       "       1, 1, 1, 1, 1, 1, 1, 1, 1, 1, 1, 1, 1, 1, 1, 1, 1, 1, 1, 1, 1, 1,\n",
       "       1, 1, 1, 1, 1, 1, 1, 1, 1, 1, 1, 1, 1, 1, 1, 1, 1, 1, 1, 1, 1, 1,\n",
       "       1, 1, 1, 1, 1, 1, 1, 1, 1, 1, 1, 1, 1, 1, 1, 1, 1, 1, 1, 1, 1, 1,\n",
       "       1, 1, 1, 1, 1, 1, 1, 1, 1, 1, 1, 1, 1, 1, 1, 1, 1, 1, 1, 1, 1, 1,\n",
       "       1, 1, 1, 1, 1, 1, 1, 1, 1, 1, 1, 1, 1, 1, 1, 1, 1, 1, 1, 1, 1, 1,\n",
       "       1, 1, 1, 1, 1, 1, 1, 1, 1, 1, 1, 1, 1, 1, 1, 1, 1, 1, 1, 1, 1, 1,\n",
       "       1, 1, 1, 1, 1, 1, 1, 1, 1, 1, 1, 1, 1, 1, 1, 1, 1, 1, 1, 1, 1, 1,\n",
       "       1, 1, 1, 1, 1, 1, 1, 1, 1, 1, 1, 1, 1, 1, 1, 1, 1, 1, 1, 1, 1, 1,\n",
       "       1, 1, 1, 1, 1, 1, 1, 1, 1, 1, 1, 1, 1, 1, 1, 1, 1, 1, 1, 1, 1, 1,\n",
       "       1, 1, 1, 1, 1, 1, 1, 1, 1, 1, 1, 1, 1, 1, 1, 1, 1, 1, 1, 1, 1, 1,\n",
       "       1, 1, 1, 1, 1, 1, 1, 1, 1, 1, 1, 1, 1, 1, 1, 1, 1, 1, 1, 1, 1, 1,\n",
       "       1, 1, 1, 1, 1, 1, 1, 1, 1, 1, 1, 1, 1, 1, 1, 1, 1, 1, 1, 1, 1, 1,\n",
       "       1, 1, 1, 1, 1, 1, 1, 1, 1, 1, 1, 1, 1, 1, 1, 1, 1, 1, 1, 1, 1, 1,\n",
       "       1, 1, 1, 1, 1, 1, 1, 1, 1, 1, 1, 1, 1, 1, 1, 1, 1, 1, 1, 1, 1, 1,\n",
       "       1, 1, 1, 1, 1, 1, 1, 1, 1, 1, 1, 1, 1, 1, 1, 1, 1, 1, 1, 1, 1, 1,\n",
       "       1, 1, 1, 1])"
      ]
     },
     "execution_count": 258,
     "metadata": {},
     "output_type": "execute_result"
    }
   ],
   "source": [
    "mask[0].data[8]"
   ]
  },
  {
   "cell_type": "code",
   "execution_count": 220,
   "metadata": {},
   "outputs": [
    {
     "data": {
      "text/plain": [
       "387.0"
      ]
     },
     "execution_count": 220,
     "metadata": {},
     "output_type": "execute_result"
    }
   ],
   "source": [
    "cen = (386,386)"
   ]
  },
  {
   "cell_type": "code",
   "execution_count": 222,
   "metadata": {},
   "outputs": [],
   "source": [
    "w = WCS(mask[0].header)\n",
    "sky = w.pixel_to_world(386, 386)\n",
    "sky.ra\n",
    "pix1 = (386,387)"
   ]
  },
  {
   "cell_type": "code",
   "execution_count": 223,
   "metadata": {},
   "outputs": [],
   "source": [
    "sky2 = w.pixel_to_world(pix1[0],pix1[1])\n",
    "pix_sep = np.sqrt((cen[0]-pix1[0])**2 + (cen[1]-pix1[1])**2)"
   ]
  },
  {
   "cell_type": "code",
   "execution_count": 224,
   "metadata": {},
   "outputs": [
    {
     "data": {
      "text/plain": [
       "1.0"
      ]
     },
     "execution_count": 224,
     "metadata": {},
     "output_type": "execute_result"
    }
   ],
   "source": [
    "pix_sep"
   ]
  },
  {
   "cell_type": "code",
   "execution_count": 225,
   "metadata": {},
   "outputs": [],
   "source": [
    "c = SkyCoord(ra=sky.ra, dec=sky.dec, distance = dist)"
   ]
  },
  {
   "cell_type": "code",
   "execution_count": 226,
   "metadata": {},
   "outputs": [],
   "source": [
    "c2 = SkyCoord(ra=sky2.ra, dec=sky2.dec, distance = dist)"
   ]
  },
  {
   "cell_type": "code",
   "execution_count": 232,
   "metadata": {},
   "outputs": [],
   "source": [
    "pix_dif = c.separation_3d(c2).to(u.kpc)\n",
    "grid = [np.zeros(388),np.zeros(388)]\n",
    "gridx = np.zeros(387)\n",
    "gridy = np.zeros(387)"
   ]
  },
  {
   "cell_type": "code",
   "execution_count": 245,
   "metadata": {},
   "outputs": [
    {
     "ename": "IndexError",
     "evalue": "list index out of range",
     "output_type": "error",
     "traceback": [
      "\u001b[0;31m---------------------------------------------------------------------------\u001b[0m",
      "\u001b[0;31mIndexError\u001b[0m                                Traceback (most recent call last)",
      "\u001b[0;32m<ipython-input-245-0f9c070a12d6>\u001b[0m in \u001b[0;36m<module>\u001b[0;34m\u001b[0m\n\u001b[1;32m      9\u001b[0m         \u001b[0mr_dist\u001b[0m \u001b[0;34m=\u001b[0m \u001b[0mr\u001b[0m\u001b[0;34m*\u001b[0m\u001b[0mpix_dif\u001b[0m\u001b[0;34m/\u001b[0m\u001b[0mu\u001b[0m\u001b[0;34m.\u001b[0m\u001b[0mkpc\u001b[0m\u001b[0;34m\u001b[0m\u001b[0;34m\u001b[0m\u001b[0m\n\u001b[1;32m     10\u001b[0m         \u001b[0mI_CO\u001b[0m \u001b[0;34m=\u001b[0m \u001b[0mnp\u001b[0m\u001b[0;34m.\u001b[0m\u001b[0mexp\u001b[0m\u001b[0;34m(\u001b[0m\u001b[0mr_dist\u001b[0m\u001b[0;34m/\u001b[0m\u001b[0ml_sl\u001b[0m\u001b[0;34m)\u001b[0m\u001b[0;34m\u001b[0m\u001b[0;34m\u001b[0m\u001b[0m\n\u001b[0;32m---> 11\u001b[0;31m         \u001b[0mgrid\u001b[0m\u001b[0;34m[\u001b[0m\u001b[0mint\u001b[0m\u001b[0;34m(\u001b[0m\u001b[0mx\u001b[0m\u001b[0;34m[\u001b[0m\u001b[0mi\u001b[0m\u001b[0;34m]\u001b[0m\u001b[0;34m)\u001b[0m\u001b[0;34m]\u001b[0m\u001b[0;34m[\u001b[0m\u001b[0mint\u001b[0m\u001b[0;34m(\u001b[0m\u001b[0my\u001b[0m\u001b[0;34m[\u001b[0m\u001b[0mk\u001b[0m\u001b[0;34m]\u001b[0m\u001b[0;34m)\u001b[0m\u001b[0;34m]\u001b[0m \u001b[0;34m=\u001b[0m \u001b[0mI_CO\u001b[0m\u001b[0;34m\u001b[0m\u001b[0;34m\u001b[0m\u001b[0m\n\u001b[0m\u001b[1;32m     12\u001b[0m         \u001b[0mk\u001b[0m\u001b[0;34m+=\u001b[0m\u001b[0;36m1\u001b[0m\u001b[0;34m\u001b[0m\u001b[0;34m\u001b[0m\u001b[0m\n\u001b[1;32m     13\u001b[0m     \u001b[0mi\u001b[0m\u001b[0;34m+=\u001b[0m\u001b[0;36m1\u001b[0m\u001b[0;34m\u001b[0m\u001b[0;34m\u001b[0m\u001b[0m\n",
      "\u001b[0;31mIndexError\u001b[0m: list index out of range"
     ]
    }
   ],
   "source": [
    "x,y = np.linspace(0,386,387),np.linspace(0,386,387)\n",
    "\n",
    "\n",
    "i = 0\n",
    "while i < len(x):\n",
    "    k = 0\n",
    "    while k < len(y):\n",
    "        r = np.sqrt((cen[0] - x[i])**2 + (cen[1] - y[k])**2)\n",
    "        r_dist = r*pix_dif/u.kpc\n",
    "        I_CO = np.exp(r_dist/l_sl)\n",
    "        grid[int(x[i])][int(y[k])] = I_CO\n",
    "        k+=1\n",
    "    i+=1\n"
   ]
  },
  {
   "cell_type": "code",
   "execution_count": 248,
   "metadata": {},
   "outputs": [
    {
     "data": {
      "text/plain": [
       "[array([1.27649405, 1.27609073, 1.27568807, 1.27528605, 1.27488469,\n",
       "        1.27448399, 1.27408394, 1.27368456, 1.27328584, 1.27288777,\n",
       "        1.27249038, 1.27209364, 1.27169758, 1.27130219, 1.27090746,\n",
       "        1.27051341, 1.27012003, 1.26972732, 1.2693353 , 1.26894395,\n",
       "        1.26855328, 1.26816329, 1.26777399, 1.26738537, 1.26699744,\n",
       "        1.2666102 , 1.26622364, 1.26583778, 1.26545261, 1.26506814,\n",
       "        1.26468436, 1.26430128, 1.2639189 , 1.26353722, 1.26315625,\n",
       "        1.26277598, 1.26239641, 1.26201756, 1.26163942, 1.26126198,\n",
       "        1.26088527, 1.26050926, 1.26013398, 1.25975941, 1.25938557,\n",
       "        1.25901244, 1.25864004, 1.25826837, 1.25789743, 1.25752721,\n",
       "        1.25715773, 1.25678898, 1.25642096, 1.25605368, 1.25568715,\n",
       "        1.25532135, 1.25495629, 1.25459198, 1.25422842, 1.2538656 ,\n",
       "        1.25350353, 1.25314222, 1.25278166, 1.25242185, 1.2520628 ,\n",
       "        1.25170452, 1.25134699, 1.25099023, 1.25063423, 1.250279  ,\n",
       "        1.24992454, 1.24957085, 1.24921793, 1.24886579, 1.24851442,\n",
       "        1.24816384, 1.24781403, 1.24746501, 1.24711677, 1.24676932,\n",
       "        1.24642266, 1.24607679, 1.24573172, 1.24538744, 1.24504395,\n",
       "        1.24470127, 1.24435938, 1.2440183 , 1.24367803, 1.24333856,\n",
       "        1.2429999 , 1.24266206, 1.24232503, 1.24198881, 1.24165341,\n",
       "        1.24131883, 1.24098508, 1.24065214, 1.24032004, 1.23998876,\n",
       "        1.23965831, 1.2393287 , 1.23899992, 1.23867198, 1.23834488,\n",
       "        1.23801862, 1.2376932 , 1.23736863, 1.23704491, 1.23672203,\n",
       "        1.23640001, 1.23607885, 1.23575854, 1.23543909, 1.2351205 ,\n",
       "        1.23480278, 1.23448592, 1.23416993, 1.2338548 , 1.23354056,\n",
       "        1.23322718, 1.23291469, 1.23260307, 1.23229233, 1.23198248,\n",
       "        1.23167352, 1.23136544, 1.23105825, 1.23075196, 1.23044656,\n",
       "        1.23014206, 1.22983846, 1.22953577, 1.22923397, 1.22893309,\n",
       "        1.22863311, 1.22833405, 1.2280359 , 1.22773866, 1.22744235,\n",
       "        1.22714695, 1.22685248, 1.22655894, 1.22626632, 1.22597463,\n",
       "        1.22568388, 1.22539406, 1.22510518, 1.22481724, 1.22453024,\n",
       "        1.22424419, 1.22395909, 1.22367493, 1.22339173, 1.22310948,\n",
       "        1.22282819, 1.22254786, 1.22226849, 1.22199009, 1.22171265,\n",
       "        1.22143618, 1.22116068, 1.22088616, 1.22061262, 1.22034005,\n",
       "        1.22006846, 1.21979786, 1.21952825, 1.21925962, 1.21899199,\n",
       "        1.21872535, 1.21845971, 1.21819506, 1.21793142, 1.21766878,\n",
       "        1.21740715, 1.21714652, 1.21688691, 1.21662831, 1.21637073,\n",
       "        1.21611416, 1.21585862, 1.2156041 , 1.21535061, 1.21509815,\n",
       "        1.21484672, 1.21459632, 1.21434696, 1.21409863, 1.21385135,\n",
       "        1.21360512, 1.21335992, 1.21311578, 1.21287269, 1.21263065,\n",
       "        1.21238967, 1.21214975, 1.21191089, 1.2116731 , 1.21143637,\n",
       "        1.21120071, 1.21096612, 1.21073261, 1.21050017, 1.21026881,\n",
       "        1.21003853, 1.20980934, 1.20958123, 1.20935421, 1.20912829,\n",
       "        1.20890346, 1.20867972, 1.20845708, 1.20823555, 1.20801512,\n",
       "        1.2077958 , 1.20757758, 1.20736048, 1.20714449, 1.20692962,\n",
       "        1.20671586, 1.20650323, 1.20629172, 1.20608134, 1.20587209,\n",
       "        1.20566397, 1.20545698, 1.20525113, 1.20504642, 1.20484285,\n",
       "        1.20464042, 1.20443914, 1.20423901, 1.20404002, 1.2038422 ,\n",
       "        1.20364552, 1.20345001, 1.20325566, 1.20306246, 1.20287044,\n",
       "        1.20267958, 1.2024899 , 1.20230138, 1.20211404, 1.20192788,\n",
       "        1.2017429 , 1.2015591 , 1.20137648, 1.20119505, 1.20101481,\n",
       "        1.20083576, 1.20065791, 1.20048125, 1.20030579, 1.20013153,\n",
       "        1.19995847, 1.19978662, 1.19961598, 1.19944654, 1.19927832,\n",
       "        1.19911131, 1.19894552, 1.19878095, 1.1986176 , 1.19845547,\n",
       "        1.19829457, 1.19813489, 1.19797645, 1.19781923, 1.19766325,\n",
       "        1.19750851, 1.19735501, 1.19720274, 1.19705172, 1.19690194,\n",
       "        1.19675342, 1.19660613, 1.19646011, 1.19631533, 1.19617181,\n",
       "        1.19602954, 1.19588854, 1.1957488 , 1.19561032, 1.1954731 ,\n",
       "        1.19533715, 1.19520248, 1.19506907, 1.19493693, 1.19480607,\n",
       "        1.19467649, 1.19454819, 1.19442117, 1.19429543, 1.19417097,\n",
       "        1.1940478 , 1.19392592, 1.19380533, 1.19368603, 1.19356802,\n",
       "        1.19345131, 1.1933359 , 1.19322178, 1.19310897, 1.19299746,\n",
       "        1.19288725, 1.19277835, 1.19267075, 1.19256446, 1.19245949,\n",
       "        1.19235582, 1.19225347, 1.19215244, 1.19205272, 1.19195432,\n",
       "        1.19185724, 1.19176148, 1.19166704, 1.19157393, 1.19148215,\n",
       "        1.19139169, 1.19130256, 1.19121476, 1.19112829, 1.19104315,\n",
       "        1.19095935, 1.19087688, 1.19079576, 1.19071596, 1.19063751,\n",
       "        1.1905604 , 1.19048463, 1.1904102 , 1.19033712, 1.19026538,\n",
       "        1.19019499, 1.19012595, 1.19005826, 1.18999191, 1.18992692,\n",
       "        1.18986328, 1.18980099, 1.18974005, 1.18968047, 1.18962225,\n",
       "        1.18956538, 1.18950987, 1.18945572, 1.18940293, 1.1893515 ,\n",
       "        1.18930143, 1.18925273, 1.18920538, 1.1891594 , 1.18911478,\n",
       "        1.18907153, 1.18902965, 1.18898913, 1.18894998, 1.1889122 ,\n",
       "        1.18887578, 1.18884074, 1.18880706, 1.18877475, 1.18874382,\n",
       "        1.18871426, 1.18868606, 1.18865925, 1.1886338 , 1.18860972,\n",
       "        1.18858702, 1.1885657 , 1.18854575, 1.18852717, 1.18850997,\n",
       "        1.18849414, 1.18847969, 1.18846661, 1.18845491, 1.18844458,\n",
       "        1.18843564, 1.18842806, 1.18842187, 1.18841705, 1.18841361,\n",
       "        1.18841154, 1.18841085, 0.        ]),\n",
       " array([1.27609073, 1.27568702, 1.27528395, 1.27488154, 1.27447979,\n",
       "        1.27407869, 1.27367824, 1.27327846, 1.27287933, 1.27248087,\n",
       "        1.27208307, 1.27168594, 1.27128948, 1.27089368, 1.27049855,\n",
       "        1.27010409, 1.26971031, 1.2693172 , 1.26892477, 1.26853302,\n",
       "        1.26814194, 1.26775155, 1.26736184, 1.26697281, 1.26658447,\n",
       "        1.26619682, 1.26580986, 1.26542359, 1.26503801, 1.26465312,\n",
       "        1.26426893, 1.26388544, 1.26350265, 1.26312056, 1.26273917,\n",
       "        1.26235849, 1.26197852, 1.26159925, 1.26122069, 1.26084284,\n",
       "        1.26046571, 1.26008929, 1.25971359, 1.2593386 , 1.25896434,\n",
       "        1.2585908 , 1.25821798, 1.25784589, 1.25747453, 1.25710389,\n",
       "        1.25673399, 1.25636482, 1.25599639, 1.25562869, 1.25526173,\n",
       "        1.25489551, 1.25453003, 1.25416529, 1.25380131, 1.25343807,\n",
       "        1.25307558, 1.25271384, 1.25235285, 1.25199262, 1.25163315,\n",
       "        1.25127444, 1.25091648, 1.25055929, 1.25020287, 1.24984721,\n",
       "        1.24949233, 1.24913821, 1.24878486, 1.24843229, 1.2480805 ,\n",
       "        1.24772949, 1.24737925, 1.2470298 , 1.24668114, 1.24633326,\n",
       "        1.24598617, 1.24563987, 1.24529436, 1.24494965, 1.24460573,\n",
       "        1.24426262, 1.2439203 , 1.24357879, 1.24323808, 1.24289818,\n",
       "        1.24255909, 1.24222082, 1.24188335, 1.2415467 , 1.24121087,\n",
       "        1.24087586, 1.24054167, 1.2402083 , 1.23987576, 1.23954405,\n",
       "        1.23921317, 1.23888313, 1.23855391, 1.23822554, 1.237898  ,\n",
       "        1.23757131, 1.23724545, 1.23692045, 1.23659629, 1.23627298,\n",
       "        1.23595053, 1.23562893, 1.23530818, 1.2349883 , 1.23466928,\n",
       "        1.23435112, 1.23403382, 1.2337174 , 1.23340184, 1.23308716,\n",
       "        1.23277335, 1.23246042, 1.23214836, 1.23183719, 1.23152691,\n",
       "        1.23121751, 1.230909  , 1.23060137, 1.23029465, 1.22998881,\n",
       "        1.22968388, 1.22937985, 1.22907671, 1.22877449, 1.22847317,\n",
       "        1.22817276, 1.22787326, 1.22757467, 1.22727701, 1.22698026,\n",
       "        1.22668443, 1.22638953, 1.22609555, 1.2258025 , 1.22551038,\n",
       "        1.2252192 , 1.22492895, 1.22463964, 1.22435127, 1.22406384,\n",
       "        1.22377736, 1.22349182, 1.22320724, 1.2229236 , 1.22264093,\n",
       "        1.22235921, 1.22207845, 1.22179865, 1.22151982, 1.22124195,\n",
       "        1.22096506, 1.22068914, 1.22041419, 1.22014022, 1.21986722,\n",
       "        1.21959521, 1.21932419, 1.21905415, 1.2187851 , 1.21851705,\n",
       "        1.21824998, 1.21798392, 1.21771885, 1.21745479, 1.21719173,\n",
       "        1.21692968, 1.21666863, 1.2164086 , 1.21614959, 1.21589159,\n",
       "        1.21563461, 1.21537865, 1.21512372, 1.21486981, 1.21461693,\n",
       "        1.21436509, 1.21411428, 1.2138645 , 1.21361577, 1.21336808,\n",
       "        1.21312143, 1.21287583, 1.21263128, 1.21238779, 1.21214534,\n",
       "        1.21190396, 1.21166363, 1.21142437, 1.21118617, 1.21094904,\n",
       "        1.21071298, 1.21047799, 1.21024408, 1.21001124, 1.20977948,\n",
       "        1.20954881, 1.20931922, 1.20909072, 1.20886331, 1.20863699,\n",
       "        1.20841177, 1.20818765, 1.20796462, 1.2077427 , 1.20752188,\n",
       "        1.20730217, 1.20708357, 1.20686609, 1.20664972, 1.20643446,\n",
       "        1.20622033, 1.20600732, 1.20579543, 1.20558467, 1.20537505,\n",
       "        1.20516655, 1.20495919, 1.20475297, 1.20454789, 1.20434395,\n",
       "        1.20414115, 1.20393951, 1.20373901, 1.20353966, 1.20334147,\n",
       "        1.20314444, 1.20294857, 1.20275386, 1.20256031, 1.20236793,\n",
       "        1.20217672, 1.20198668, 1.20179782, 1.20161013, 1.20142362,\n",
       "        1.20123829, 1.20105415, 1.20087119, 1.20068942, 1.20050884,\n",
       "        1.20032945, 1.20015126, 1.19997427, 1.19979848, 1.19962388,\n",
       "        1.1994505 , 1.19927832, 1.19910735, 1.19893759, 1.19876905,\n",
       "        1.19860172, 1.19843561, 1.19827072, 1.19810705, 1.19794461,\n",
       "        1.1977834 , 1.19762341, 1.19746466, 1.19730714, 1.19715086,\n",
       "        1.19699581, 1.19684201, 1.19668945, 1.19653813, 1.19638806,\n",
       "        1.19623924, 1.19609167, 1.19594535, 1.19580029, 1.19565648,\n",
       "        1.19551394, 1.19537265, 1.19523263, 1.19509388, 1.19495639,\n",
       "        1.19482017, 1.19468522, 1.19455155, 1.19441915, 1.19428803,\n",
       "        1.19415819, 1.19402962, 1.19390235, 1.19377635, 1.19365164,\n",
       "        1.19352823, 1.1934061 , 1.19328526, 1.19316572, 1.19304747,\n",
       "        1.19293053, 1.19281488, 1.19270053, 1.19258748, 1.19247574,\n",
       "        1.19236531, 1.19225618, 1.19214837, 1.19204186, 1.19193667,\n",
       "        1.19183279, 1.19173023, 1.19162899, 1.19152906, 1.19143046,\n",
       "        1.19133318, 1.19123722, 1.19114259, 1.19104928, 1.19095731,\n",
       "        1.19086666, 1.19077734, 1.19068936, 1.19060271, 1.1905174 ,\n",
       "        1.19043342, 1.19035078, 1.19026948, 1.19018953, 1.19011091,\n",
       "        1.19003364, 1.18995771, 1.18988312, 1.18980989, 1.189738  ,\n",
       "        1.18966746, 1.18959827, 1.18953043, 1.18946395, 1.18939882,\n",
       "        1.18933504, 1.18927262, 1.18921156, 1.18915185, 1.1890935 ,\n",
       "        1.18903652, 1.18898089, 1.18892662, 1.18887372, 1.18882218,\n",
       "        1.18877201, 1.18872319, 1.18867575, 1.18862967, 1.18858496,\n",
       "        1.18854162, 1.18849964, 1.18845904, 1.1884198 , 1.18838194,\n",
       "        1.18834545, 1.18831033, 1.18827658, 1.1882442 , 1.1882132 ,\n",
       "        1.18818358, 1.18815532, 1.18812845, 1.18810294, 1.18807882,\n",
       "        1.18805607, 1.1880347 , 1.1880147 , 1.18799609, 1.18797885,\n",
       "        1.18796298, 1.1879485 , 1.1879354 , 1.18792367, 1.18791332,\n",
       "        1.18790436, 1.18789677, 1.18789056, 1.18788573, 1.18788228,\n",
       "        1.18788021, 1.18787952, 0.        ])]"
      ]
     },
     "execution_count": 248,
     "metadata": {},
     "output_type": "execute_result"
    }
   ],
   "source": [
    "grid"
   ]
  },
  {
   "cell_type": "code",
   "execution_count": 247,
   "metadata": {},
   "outputs": [
    {
     "data": {
      "text/plain": [
       "0"
      ]
     },
     "execution_count": 247,
     "metadata": {},
     "output_type": "execute_result"
    }
   ],
   "source": [
    "r_dist = r*pix_dif\n",
    "i\n",
    "k"
   ]
  },
  {
   "cell_type": "code",
   "execution_count": 186,
   "metadata": {},
   "outputs": [],
   "source": [
    "r_dist = r_dist/u.kpc"
   ]
  },
  {
   "cell_type": "code",
   "execution_count": 187,
   "metadata": {},
   "outputs": [],
   "source": [
    "I_CO = np.exp(r_dist/l_sl)"
   ]
  },
  {
   "cell_type": "code",
   "execution_count": 188,
   "metadata": {},
   "outputs": [],
   "source": [
    "norm = np.linalg.norm(I_CO)\n",
    "\n",
    "I_CO = I_CO/norm"
   ]
  },
  {
   "cell_type": "raw",
   "metadata": {},
   "source": [
    "r"
   ]
  },
  {
   "cell_type": "code",
   "execution_count": 249,
   "metadata": {},
   "outputs": [],
   "source": [
    "mask[0].data = grid"
   ]
  },
  {
   "cell_type": "code",
   "execution_count": 252,
   "metadata": {},
   "outputs": [
    {
     "data": {
      "text/plain": [
       "2"
      ]
     },
     "execution_count": 252,
     "metadata": {},
     "output_type": "execute_result"
    }
   ],
   "source": [
    "len(grid)"
   ]
  },
  {
   "cell_type": "code",
   "execution_count": 260,
   "metadata": {},
   "outputs": [],
   "source": [
    "from phangs import PhangsGalaxy\n",
    "import scipy.stats as ss\n",
    "from astropy.io import fits\n",
    "import numpy as np\n",
    "import astropy.units as u\n",
    "from scipy.interpolate import interp1d"
   ]
  },
  {
   "cell_type": "code",
   "execution_count": 267,
   "metadata": {},
   "outputs": [],
   "source": [
    "\n",
    "gal = PhangsGalaxy('ngc6300')\n",
    "#\n",
    "hdu = fits.open('/Users/josh/projects/misc/ngc6300_12m+7m+tp_co21_150pc_strict_mom0.fits')\n",
    "# Build map of radius on the sky\n",
    "radius = gal.radius(header=hdu[0].header).to(u.kpc).value\n",
    "# Calculate mean in 0.5 kpc bins\n",
    "mn, center, _ = ss.binned_statistic(radius.ravel(), np.nan_to_num(hdu[0].data).ravel(),bins=np.arange(0,20,0.5), statistic='mean')\n",
    "# Calculate centres of bins\n",
    "rmid = (center[0:-1] + center[1:]) * 0.5\n",
    "# Generate an interpolation function\n",
    "f = interp1d(rmid, mn, bounds_error=False)\n",
    "# Evaluate that function for the radius map\n",
    "azav = f(radius)"
   ]
  },
  {
   "cell_type": "code",
   "execution_count": 283,
   "metadata": {},
   "outputs": [
    {
     "data": {
      "text/plain": [
       "81.1029209538087"
      ]
     },
     "execution_count": 283,
     "metadata": {},
     "output_type": "execute_result"
    }
   ],
   "source": [
    "np.nanmax(mask[0].data)"
   ]
  },
  {
   "cell_type": "code",
   "execution_count": 280,
   "metadata": {},
   "outputs": [
    {
     "data": {
      "text/plain": [
       "<matplotlib.image.AxesImage at 0x7fdc90d49550>"
      ]
     },
     "execution_count": 280,
     "metadata": {},
     "output_type": "execute_result"
    },
    {
     "data": {
      "image/png": "[encoded data removed]",
      "text/plain": [
       "<Figure size 432x288 with 1 Axes>"
      ]
     },
     "metadata": {
      "needs_background": "light"
     },
     "output_type": "display_data"
    }
   ],
   "source": [
    "mask[0].data = azav\n",
    "plt.imshow(mask[0].data, origin='lower')"
   ]
  },
  {
   "cell_type": "code",
   "execution_count": 279,
   "metadata": {},
   "outputs": [],
   "source": [
    "mask[0].writeto('/Users/josh/projects/misc/ngc6300_m0_mask.fits')"
   ]
  },
  {
   "cell_type": "code",
   "execution_count": 282,
   "metadata": {},
   "outputs": [
    {
     "data": {
      "text/plain": [
       "<matplotlib.image.AxesImage at 0x7fdc71b62910>"
      ]
     },
     "execution_count": 282,
     "metadata": {},
     "output_type": "execute_result"
    },
    {
     "data": {
      "image/png": "[encoded data removed]",
      "text/plain": [
       "<Figure size 432x288 with 1 Axes>"
      ]
     },
     "metadata": {
      "needs_background": "light"
     },
     "output_type": "display_data"
    }
   ],
   "source": [
    "plt.imshow(radius, origin='lower')"
   ]
  },
  {
   "cell_type": "code",
   "execution_count": null,
   "metadata": {},
   "outputs": [],
   "source": []
  }
 ],
 "metadata": {
  "kernelspec": {
   "display_name": "Python 3",
   "language": "python",
   "name": "python3"
  },
  "language_info": {
   "codemirror_mode": {
    "name": "ipython",
    "version": 3
   },
   "file_extension": ".py",
   "mimetype": "text/x-python",
   "name": "python",
   "nbconvert_exporter": "python",
   "pygments_lexer": "ipython3",
   "version": "3.8.3"
  }
 },
 "nbformat": 4,
 "nbformat_minor": 4
}
